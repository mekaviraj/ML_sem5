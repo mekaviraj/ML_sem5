{
  "nbformat": 4,
  "nbformat_minor": 0,
  "metadata": {
    "colab": {
      "provenance": [],
      "include_colab_link": true
    },
    "kernelspec": {
      "name": "python3",
      "display_name": "Python 3"
    },
    "language_info": {
      "name": "python"
    }
  },
  "cells": [
    {
      "cell_type": "markdown",
      "metadata": {
        "id": "view-in-github",
        "colab_type": "text"
      },
      "source": [
        "<a href=\"https://colab.research.google.com/github/mekaviraj/ML_sem5/blob/main/ml_lab_sem5.ipynb\" target=\"_parent\"><img src=\"https://colab.research.google.com/assets/colab-badge.svg\" alt=\"Open In Colab\"/></a>"
      ]
    },
    {
      "cell_type": "markdown",
      "source": [
        "[ML drive folder](https://drive.google.com/drive/folders/123m4M0v0Kp9VL58w-AEbm_m9sNgQ10TD)"
      ],
      "metadata": {
        "id": "CcMTgGPC2jkE"
      }
    },
    {
      "cell_type": "markdown",
      "source": [
        "# week 1\n"
      ],
      "metadata": {
        "id": "9v86k3PJ0xla"
      }
    },
    {
      "cell_type": "code",
      "execution_count": null,
      "metadata": {
        "id": "IL_hs4jGrdLF"
      },
      "outputs": [],
      "source": [
        "import pandas as np"
      ]
    },
    {
      "cell_type": "code",
      "source": [
        "df = np.DataFrame([])"
      ],
      "metadata": {
        "id": "dZhV02DbsKzZ"
      },
      "execution_count": null,
      "outputs": []
    },
    {
      "cell_type": "markdown",
      "source": [],
      "metadata": {
        "id": "1Pb1yDPesr0R"
      }
    },
    {
      "cell_type": "code",
      "source": [
        "# chatgpt is making our brain dumb\n"
      ],
      "metadata": {
        "id": "5F90wfKluUvp"
      },
      "execution_count": null,
      "outputs": []
    },
    {
      "cell_type": "code",
      "source": [
        "obj + 2"
      ],
      "metadata": {
        "colab": {
          "base_uri": "https://localhost:8080/",
          "height": 141
        },
        "id": "-N8e2m_uv3cB",
        "outputId": "583d1e2f-4295-466a-e4c5-38904b74443b"
      },
      "execution_count": null,
      "outputs": [
        {
          "output_type": "error",
          "ename": "NameError",
          "evalue": "name 'obj' is not defined",
          "traceback": [
            "\u001b[0;31m---------------------------------------------------------------------------\u001b[0m",
            "\u001b[0;31mNameError\u001b[0m                                 Traceback (most recent call last)",
            "\u001b[0;32m/tmp/ipython-input-4-2220928381.py\u001b[0m in \u001b[0;36m<cell line: 0>\u001b[0;34m()\u001b[0m\n\u001b[0;32m----> 1\u001b[0;31m \u001b[0mobj\u001b[0m \u001b[0;34m+\u001b[0m \u001b[0;36m2\u001b[0m\u001b[0;34m\u001b[0m\u001b[0;34m\u001b[0m\u001b[0m\n\u001b[0m",
            "\u001b[0;31mNameError\u001b[0m: name 'obj' is not defined"
          ]
        }
      ]
    },
    {
      "cell_type": "code",
      "source": [
        "obj + obj"
      ],
      "metadata": {
        "colab": {
          "base_uri": "https://localhost:8080/",
          "height": 141
        },
        "id": "eGnw9BU7whN4",
        "outputId": "464c8d99-857b-4195-8b6c-47547d73e80c"
      },
      "execution_count": null,
      "outputs": [
        {
          "output_type": "error",
          "ename": "NameError",
          "evalue": "name 'obj' is not defined",
          "traceback": [
            "\u001b[0;31m---------------------------------------------------------------------------\u001b[0m",
            "\u001b[0;31mNameError\u001b[0m                                 Traceback (most recent call last)",
            "\u001b[0;32m/tmp/ipython-input-5-3933306352.py\u001b[0m in \u001b[0;36m<cell line: 0>\u001b[0;34m()\u001b[0m\n\u001b[0;32m----> 1\u001b[0;31m \u001b[0mobj\u001b[0m \u001b[0;34m+\u001b[0m \u001b[0mobj\u001b[0m\u001b[0;34m\u001b[0m\u001b[0;34m\u001b[0m\u001b[0m\n\u001b[0m",
            "\u001b[0;31mNameError\u001b[0m: name 'obj' is not defined"
          ]
        }
      ]
    },
    {
      "cell_type": "code",
      "source": [
        "2+ obj\n"
      ],
      "metadata": {
        "colab": {
          "base_uri": "https://localhost:8080/",
          "height": 141
        },
        "id": "RGeiZDSAwiGY",
        "outputId": "271d151c-986f-4100-b32d-01bbbef77888"
      },
      "execution_count": null,
      "outputs": [
        {
          "output_type": "error",
          "ename": "NameError",
          "evalue": "name 'obj' is not defined",
          "traceback": [
            "\u001b[0;31m---------------------------------------------------------------------------\u001b[0m",
            "\u001b[0;31mNameError\u001b[0m                                 Traceback (most recent call last)",
            "\u001b[0;32m/tmp/ipython-input-6-876153128.py\u001b[0m in \u001b[0;36m<cell line: 0>\u001b[0;34m()\u001b[0m\n\u001b[0;32m----> 1\u001b[0;31m \u001b[0;36m2\u001b[0m\u001b[0;34m+\u001b[0m \u001b[0mobj\u001b[0m\u001b[0;34m\u001b[0m\u001b[0;34m\u001b[0m\u001b[0m\n\u001b[0m",
            "\u001b[0;31mNameError\u001b[0m: name 'obj' is not defined"
          ]
        }
      ]
    },
    {
      "cell_type": "code",
      "source": [
        "lst = [1,2]\n",
        "lst.append(lst)\n",
        "l = 0\n",
        "print(lst[2])\n",
        "print(lst)"
      ],
      "metadata": {
        "colab": {
          "base_uri": "https://localhost:8080/"
        },
        "id": "oGBKhiyPwkHo",
        "outputId": "ae52d822-f726-4bfe-8ce1-f60703194b74"
      },
      "execution_count": null,
      "outputs": [
        {
          "output_type": "stream",
          "name": "stdout",
          "text": [
            "[1, 2, [...]]\n",
            "[1, 2, [...]]\n"
          ]
        }
      ]
    },
    {
      "cell_type": "code",
      "source": [
        "import numpy as np\n",
        "\n",
        "\n",
        "n =np.array([1,2,333,4,5]).reshape(5,1)\n",
        "\n",
        "n[n % 2 != 0 ] = -1\n",
        "print(n)"
      ],
      "metadata": {
        "colab": {
          "base_uri": "https://localhost:8080/"
        },
        "id": "bA4Ez-u_xPm4",
        "outputId": "b569dfbf-975e-4c9c-d998-26f55503c725"
      },
      "execution_count": null,
      "outputs": [
        {
          "output_type": "stream",
          "name": "stdout",
          "text": [
            "[[-1]\n",
            " [ 2]\n",
            " [-1]\n",
            " [ 4]\n",
            " [-1]]\n"
          ]
        }
      ]
    },
    {
      "cell_type": "markdown",
      "source": [],
      "metadata": {
        "id": "QtmWEgW05N5p"
      }
    },
    {
      "cell_type": "code",
      "source": [
        "\"\"\"How do you create a 3x3 matrix filled with zeros?\n",
        "\n",
        "How do you create a 1D NumPy array with numbers from 0 to 9?\n",
        "\n",
        "How do you access the last element of a 2D array?\n",
        "\n",
        "How do you select all elements in the second column of a 3x3 array?\n",
        "\n",
        "How can you reshape a 1D array of size 9 into a 3x3 matrix?\n",
        "\n",
        "How do you multiply two NumPy arrays element-wise?\n",
        "\n",
        "How do you calculate the dot product of two NumPy arrays?\n",
        "\n",
        "How do you calculate the mean, median, and standard deviation of a NumPy array?\n",
        "\n",
        "How do you filter out values less than 5 from a NumPy array of random integers between 1 and 10?\n",
        "\n",
        "How can you transpose a 3x2 array to a 2x3 array?\n",
        "\n",
        "How do you find the index of the maximum value in a NumPy array?\n",
        "\n",
        "How do you replace all negative values in a NumPy array with 0?\n",
        "\n",
        "How do you stack two NumPy arrays vertically and horizontally?\n",
        "\n",
        "How do you concatenate two 1D arrays into a single 1D array?\n",
        "\n",
        "How do you get the sum of each column in a 2D NumPy array?\n",
        "\n",
        "\"\"\""
      ],
      "metadata": {
        "colab": {
          "base_uri": "https://localhost:8080/",
          "height": 244
        },
        "id": "Jj72fjMT2r5o",
        "outputId": "5a987656-55c2-4b89-d200-8010e3d7a08d"
      },
      "execution_count": null,
      "outputs": [
        {
          "output_type": "execute_result",
          "data": {
            "text/plain": [
              "'How do you create a 3x3 matrix filled with zeros?\\n\\nHow do you create a 1D NumPy array with numbers from 0 to 9?\\n\\nHow do you access the last element of a 2D array?\\n\\nHow do you select all elements in the second column of a 3x3 array?\\n\\nHow can you reshape a 1D array of size 9 into a 3x3 matrix?\\n\\nHow do you multiply two NumPy arrays element-wise?\\n\\nHow do you calculate the dot product of two NumPy arrays?\\n\\nHow do you calculate the mean, median, and standard deviation of a NumPy array?\\n\\nHow do you filter out values less than 5 from a NumPy array of random integers between 1 and 10?\\n\\nHow can you transpose a 3x2 array to a 2x3 array?\\n\\nHow do you find the index of the maximum value in a NumPy array?\\n\\nHow do you replace all negative values in a NumPy array with 0?\\n\\nHow do you stack two NumPy arrays vertically and horizontally?\\n\\nHow do you concatenate two 1D arrays into a single 1D array?\\n\\nHow do you get the sum of each column in a 2D NumPy array?\\n\\n'"
            ],
            "application/vnd.google.colaboratory.intrinsic+json": {
              "type": "string"
            }
          },
          "metadata": {},
          "execution_count": 27
        }
      ]
    },
    {
      "cell_type": "code",
      "source": [
        "\"there are 4 pdfs , by 11 complete minimum 4- sai ram\""
      ],
      "metadata": {
        "colab": {
          "base_uri": "https://localhost:8080/",
          "height": 35
        },
        "id": "CmlbS4WZ5VgZ",
        "outputId": "e289e288-290a-4008-bd3c-43437952b5d0"
      },
      "execution_count": null,
      "outputs": [
        {
          "output_type": "execute_result",
          "data": {
            "text/plain": [
              "'there are 4 pdfs , by 11 complete minimum 4- sai ram'"
            ],
            "application/vnd.google.colaboratory.intrinsic+json": {
              "type": "string"
            }
          },
          "metadata": {},
          "execution_count": 29
        }
      ]
    },
    {
      "cell_type": "code",
      "source": [
        "import numpy as np\n",
        "n = np.zeros((3,3))\n",
        "print(n)"
      ],
      "metadata": {
        "colab": {
          "base_uri": "https://localhost:8080/"
        },
        "id": "neCLQwD_5iWo",
        "outputId": "b8635d04-5c5f-4c2a-efdc-a92574419073"
      },
      "execution_count": null,
      "outputs": [
        {
          "output_type": "stream",
          "name": "stdout",
          "text": [
            "[[0. 0. 0.]\n",
            " [0. 0. 0.]\n",
            " [0. 0. 0.]]\n"
          ]
        }
      ]
    },
    {
      "cell_type": "code",
      "source": [
        "import pandas as pd\n"
      ],
      "metadata": {
        "id": "MAC2abfx5peJ"
      },
      "execution_count": null,
      "outputs": []
    },
    {
      "cell_type": "code",
      "source": [
        "print(np.arange(3,3))"
      ],
      "metadata": {
        "colab": {
          "base_uri": "https://localhost:8080/"
        },
        "id": "tpQy35Zz52vZ",
        "outputId": "d474224e-d36e-4529-8bf8-13f6257b517d"
      },
      "execution_count": null,
      "outputs": [
        {
          "output_type": "stream",
          "name": "stdout",
          "text": [
            "[]\n"
          ]
        }
      ]
    },
    {
      "cell_type": "code",
      "source": [
        "print(n[-1])"
      ],
      "metadata": {
        "colab": {
          "base_uri": "https://localhost:8080/"
        },
        "id": "NHx5vSu_6UAp",
        "outputId": "465b95c9-5fc7-445b-f4cc-2b702ba4b39f"
      },
      "execution_count": null,
      "outputs": [
        {
          "output_type": "stream",
          "name": "stdout",
          "text": [
            "[0. 0. 0.]\n"
          ]
        }
      ]
    },
    {
      "cell_type": "code",
      "source": [
        "n = np.arange(9).reshape(3,3)\n",
        "print(n)\n",
        "print(n[1][::])# 2nd coulum all ele ela?\n"
      ],
      "metadata": {
        "colab": {
          "base_uri": "https://localhost:8080/"
        },
        "id": "cN3w4nno7FeJ",
        "outputId": "bfdb76e7-6973-4ac5-ea6a-b1e6d635c00a"
      },
      "execution_count": null,
      "outputs": [
        {
          "output_type": "stream",
          "name": "stdout",
          "text": [
            "[[0 1 2]\n",
            " [3 4 5]\n",
            " [6 7 8]]\n",
            "[3 4 5]\n"
          ]
        }
      ]
    },
    {
      "cell_type": "code",
      "source": [
        "m = n\n",
        "mm = n.dot(m)"
      ],
      "metadata": {
        "id": "2ErExq2C7Y_I"
      },
      "execution_count": null,
      "outputs": []
    },
    {
      "cell_type": "code",
      "source": [
        "print(mm)"
      ],
      "metadata": {
        "id": "-_7M1gxr8ieZ",
        "outputId": "21f0bae2-4458-4a6a-a572-b9486a8aef8a",
        "colab": {
          "base_uri": "https://localhost:8080/"
        }
      },
      "execution_count": null,
      "outputs": [
        {
          "output_type": "stream",
          "name": "stdout",
          "text": [
            "[[ 15  18  21]\n",
            " [ 42  54  66]\n",
            " [ 69  90 111]]\n"
          ]
        }
      ]
    },
    {
      "cell_type": "code",
      "source": [],
      "metadata": {
        "id": "yJT_XPmX8kX5"
      },
      "execution_count": null,
      "outputs": []
    },
    {
      "cell_type": "code",
      "source": [],
      "metadata": {
        "id": "-9PXEbwP02Bj"
      },
      "execution_count": null,
      "outputs": []
    },
    {
      "cell_type": "markdown",
      "source": [
        "# Week 2\n",
        "\n"
      ],
      "metadata": {
        "id": "J1MiZEhR03e6"
      }
    },
    {
      "cell_type": "code",
      "source": [
        "import sklearn\n"
      ],
      "metadata": {
        "id": "XrIPceQG08Ry"
      },
      "execution_count": null,
      "outputs": []
    },
    {
      "cell_type": "code",
      "source": [
        "from sklearn import datasets"
      ],
      "metadata": {
        "id": "Bh6AY_Ky1DHW"
      },
      "execution_count": null,
      "outputs": []
    },
    {
      "cell_type": "code",
      "source": [
        "df = datasets.load_iris()"
      ],
      "metadata": {
        "id": "Cz_bLiOA1Hgl"
      },
      "execution_count": null,
      "outputs": []
    },
    {
      "cell_type": "code",
      "source": [
        "# Import necessary libraries\n",
        "from sklearn.datasets import load_iris\n",
        "from sklearn.model_selection import train_test_split\n",
        "from sklearn.linear_model import LogisticRegression\n",
        "from sklearn.metrics import accuracy_score\n",
        "\n",
        "# Load the Iris dataset\n",
        "iris = load_iris()\n",
        "X = iris.data  # Features\n",
        "y = iris.target  # Labels\n",
        "\n",
        "# Split the data into training and testing sets\n",
        "X_train, X_test, y_train, y_test = train_test_split(X, y, test_size=0.3, random_state=42)\n",
        "\n",
        "# Create a logistic regression model\n",
        "model = LogisticRegression(max_iter=200)\n",
        "\n",
        "# Train the model\n",
        "model.fit(X_train, y_train)\n",
        "\n",
        "# Make predictions on the test set\n",
        "y_pred = model.predict(X_test)\n",
        "\n",
        "# Evaluate the model\n",
        "accuracy = accuracy_score(y_test, y_pred)\n",
        "\n",
        "print(f\"Accuracy: {accuracy * 100:.2f}%\")\n"
      ],
      "metadata": {
        "colab": {
          "base_uri": "https://localhost:8080/"
        },
        "id": "mYAlJt4a1LfF",
        "outputId": "c5b4c0b5-8b98-490b-fd24-bc4b1c821c37"
      },
      "execution_count": null,
      "outputs": [
        {
          "output_type": "stream",
          "name": "stdout",
          "text": [
            "Accuracy: 100.00%\n"
          ]
        }
      ]
    },
    {
      "cell_type": "code",
      "source": [
        "\n",
        "print(f\"Accuracy: {accuracy }%\")"
      ],
      "metadata": {
        "colab": {
          "base_uri": "https://localhost:8080/"
        },
        "id": "yUzs47BG4UHF",
        "outputId": "4a68d662-5a95-4234-c688-84b9cf1ccb61"
      },
      "execution_count": null,
      "outputs": [
        {
          "output_type": "stream",
          "name": "stdout",
          "text": [
            "Accuracy: 1.0%\n"
          ]
        }
      ]
    },
    {
      "cell_type": "code",
      "source": [
        "iris_path = \"/content/Iris.csv\""
      ],
      "metadata": {
        "id": "0tRO_LQH5Bq4"
      },
      "execution_count": null,
      "outputs": []
    },
    {
      "cell_type": "code",
      "source": [
        "# Write a Python program to load the iris data from a given csv file into a dataframe and\n",
        "# print the shape of the data, type of the data and first 3 rows.\n",
        "\n",
        "import pandas as pd\n",
        "iris_path = \"/content/Iris.csv\"\n",
        "# df = pd.DataFrame(iris_path)\n",
        "df = pd.read_csv(iris_path)\n",
        "# example = pd.DataFrame()\n",
        "print(\"---------------type---------------------------------\")\n",
        "# print(type(example))\n",
        "print(type(df))\n",
        "print(\"----------------------shape--------------------------\")\n",
        "print(df.shape)\n",
        "print(\"---------------------------info---------------------\")\n",
        "print(df.info)\n",
        "print(\"-------------------------------head-----------------\")\n",
        "print(df.head(3))"
      ],
      "metadata": {
        "colab": {
          "base_uri": "https://localhost:8080/"
        },
        "id": "bEEnHxd2_Fze",
        "outputId": "da70fca7-340d-4262-bb56-fe21b322db5f"
      },
      "execution_count": null,
      "outputs": [
        {
          "output_type": "stream",
          "name": "stdout",
          "text": [
            "---------------type---------------------------------\n",
            "<class 'pandas.core.frame.DataFrame'>\n",
            "----------------------shape--------------------------\n",
            "(150, 6)\n",
            "---------------------------info---------------------\n",
            "<bound method DataFrame.info of       Id  SepalLengthCm  SepalWidthCm  PetalLengthCm  PetalWidthCm  \\\n",
            "0      1            5.1           3.5            1.4           0.2   \n",
            "1      2            4.9           3.0            1.4           0.2   \n",
            "2      3            4.7           3.2            1.3           0.2   \n",
            "3      4            4.6           3.1            1.5           0.2   \n",
            "4      5            5.0           3.6            1.4           0.2   \n",
            "..   ...            ...           ...            ...           ...   \n",
            "145  146            6.7           3.0            5.2           2.3   \n",
            "146  147            6.3           2.5            5.0           1.9   \n",
            "147  148            6.5           3.0            5.2           2.0   \n",
            "148  149            6.2           3.4            5.4           2.3   \n",
            "149  150            5.9           3.0            5.1           1.8   \n",
            "\n",
            "            Species  \n",
            "0       Iris-setosa  \n",
            "1       Iris-setosa  \n",
            "2       Iris-setosa  \n",
            "3       Iris-setosa  \n",
            "4       Iris-setosa  \n",
            "..              ...  \n",
            "145  Iris-virginica  \n",
            "146  Iris-virginica  \n",
            "147  Iris-virginica  \n",
            "148  Iris-virginica  \n",
            "149  Iris-virginica  \n",
            "\n",
            "[150 rows x 6 columns]>\n",
            "-------------------------------head-----------------\n",
            "   Id  SepalLengthCm  SepalWidthCm  PetalLengthCm  PetalWidthCm      Species\n",
            "0   1            5.1           3.5            1.4           0.2  Iris-setosa\n",
            "1   2            4.9           3.0            1.4           0.2  Iris-setosa\n",
            "2   3            4.7           3.2            1.3           0.2  Iris-setosa\n"
          ]
        }
      ]
    },
    {
      "cell_type": "code",
      "source": [
        "# Write a Python program using Scikit-learn to print the keys, number of rows-columns,\n",
        "# feature names and the description of the Iris data.\n",
        "\n",
        "import sklearn\n",
        "\n"
      ],
      "metadata": {
        "id": "V-oL3oF6_cTe"
      },
      "execution_count": null,
      "outputs": []
    },
    {
      "cell_type": "code",
      "source": [
        "# feature names and the description of the Iris data.\n",
        "# 3. Write a Python program to get the number of observations, missing values and nan\n",
        "# values.\n",
        "# 4. Write a Python program to view basic statistical details like percentile, mean, std etc.\n",
        "# of iris data.\n",
        "# 5. Write a Python program to get observations of each species (setosa, versicolor,\n",
        "# virginica) from iris data.\n",
        "# 6. Write a Python program to drop Id column from a given Dataframe and print the\n",
        "# modified part. Call iris.csv to create the Dataframe.\n",
        "# 7. Write a Python program to access first four cells from a given Dataframe using the\n",
        "# index and column labels. Call iris.csv to create the Dataframe.\n",
        "# 8. Write a Python program to create a plot to get a general Statistics of Iris data.\n",
        "# 9. Write a Python program to create a Bar plot to get the frequency of the three species\n",
        "# of the Iris data.\n",
        "# 10. Write a Python program to create a Pie plot to get the frequency of the three species of\n",
        "# the Iris data.\n",
        "# 11. Write a Python program to create a graph to find relationship between the sepal length\n",
        "# and width.\n",
        "# 12. Write a Python program to create a graph to find relationship between the petal length\n",
        "# and width.\n",
        "# 13. Write a Python program to create a graph to see how the length and width of\n",
        "# SepalLength, SepalWidth, PetalLength, PetalWidth are distributed.\n",
        "# 14. Write a Python program to create a joinplot to describe individual distributions on the\n",
        "# same plot between Sepal length and Sepal width.\n",
        "# 15. Write a Python program to create a joinplot using \"hexbin\" to describe individual\n",
        "# distributions on the same plot between Sepal length and Sepal width.\n",
        "# Note:The bivariate analogue of a histogram is known as a \"hexbin\" plot, because it\n",
        "# shows the counts of observations that fall within hexagonal bins. This plot works best\n",
        "# with relatively large datasets. It's available through the matplotlib plt.hexbin function\n",
        "# and as a style in jointplot(). It looks best with a white background.\n",
        "# 16. Write a Python program to create a joinplot using \"kde\" to describe individual\n",
        "# distributions on the same plot between Sepal length and Sepal width.\n",
        "# Note:The kernel density estimation (kde) procedure visualize a bivariate distribution.\n",
        "# In seaborn, this kind of plot is shown with a contour plot and is available as a style in\n",
        "# jointplot().\n",
        "# 17. Write a Python program to draw a scatterplot, then add a joint density estimate to\n",
        "# describe individual distributions on the same plot between Sepal length and Sepal\n",
        "# width.\n",
        "# 18. Write a Python program to find the correlation between variables of iris data. Also\n",
        "# create a hitmap using Seaborn to present their relations.\n",
        "\n",
        "# 19. Write a Python program to create a box plot (or box-and-whisker plot) which shows\n",
        "# the distribution of quantitative data in a way that facilitates comparisons between\n",
        "# variables or across levels of a categorical variable of iris dataset. Use seaborn.\n",
        "# 20. Write a Python program to split the iris dataset into its attributes (X) and labels (y).\n",
        "# The X variable contains the first four columns (i.e. attributes) and y contains the labels\n",
        "# of the dataset.\n",
        "# 21. Write a Python program using Scikit-learn to split the iris dataset into 70% train data\n",
        "# and 30% test data. Out of total 150 records, the training set will contain 120 records\n",
        "# and the test set contains 30 of those records. Print both datasets.\n",
        "# 22. Write a Python program using Scikit-learn to convert Species columns in a numerical\n",
        "# column of the iris dataframe. To encode this data map convert each value to a number.\n",
        "# e.g. Iris-setosa:0, Iris-versicolor:1, and Iris-virginica:2. Now print the iris dataset into\n",
        "# 80% train data and 20% test data. Out of total 150 records, the training set will contain\n",
        "# 120 records and the test set contains 30 of those records. Print both datasets."
      ],
      "metadata": {
        "id": "hbT8wa4eFwMt"
      },
      "execution_count": null,
      "outputs": []
    },
    {
      "cell_type": "code",
      "source": [],
      "metadata": {
        "id": "HsP3p1uKFxdO"
      },
      "execution_count": null,
      "outputs": []
    }
  ]
}
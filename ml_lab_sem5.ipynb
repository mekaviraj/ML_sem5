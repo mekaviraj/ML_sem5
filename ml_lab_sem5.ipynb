{
  "nbformat": 4,
  "nbformat_minor": 0,
  "metadata": {
    "colab": {
      "provenance": [],
      "collapsed_sections": [
        "9v86k3PJ0xla",
        "J1MiZEhR03e6"
      ],
      "include_colab_link": true
    },
    "kernelspec": {
      "name": "python3",
      "display_name": "Python 3"
    },
    "language_info": {
      "name": "python"
    }
  },
  "cells": [
    {
      "cell_type": "markdown",
      "metadata": {
        "id": "view-in-github",
        "colab_type": "text"
      },
      "source": [
        "<a href=\"https://colab.research.google.com/github/mekaviraj/ML_sem5/blob/main/ml_lab_sem5.ipynb\" target=\"_parent\"><img src=\"https://colab.research.google.com/assets/colab-badge.svg\" alt=\"Open In Colab\"/></a>"
      ]
    },
    {
      "cell_type": "markdown",
      "source": [
        "[ML drive folder](https://drive.google.com/drive/folders/123m4M0v0Kp9VL58w-AEbm_m9sNgQ10TD)"
      ],
      "metadata": {
        "id": "CcMTgGPC2jkE"
      }
    },
    {
      "cell_type": "markdown",
      "source": [
        "# week 1\n"
      ],
      "metadata": {
        "id": "9v86k3PJ0xla"
      }
    },
    {
      "cell_type": "code",
      "execution_count": null,
      "metadata": {
        "id": "IL_hs4jGrdLF"
      },
      "outputs": [],
      "source": [
        "import pandas as np"
      ]
    },
    {
      "cell_type": "code",
      "source": [
        "df = np.DataFrame([])"
      ],
      "metadata": {
        "id": "dZhV02DbsKzZ"
      },
      "execution_count": null,
      "outputs": []
    },
    {
      "cell_type": "markdown",
      "source": [],
      "metadata": {
        "id": "1Pb1yDPesr0R"
      }
    },
    {
      "cell_type": "code",
      "source": [
        "# chatgpt is making our brain dumb\n"
      ],
      "metadata": {
        "id": "5F90wfKluUvp"
      },
      "execution_count": null,
      "outputs": []
    },
    {
      "cell_type": "code",
      "source": [
        "obj + 2"
      ],
      "metadata": {
        "colab": {
          "base_uri": "https://localhost:8080/",
          "height": 141
        },
        "id": "-N8e2m_uv3cB",
        "outputId": "583d1e2f-4295-466a-e4c5-38904b74443b"
      },
      "execution_count": null,
      "outputs": [
        {
          "output_type": "error",
          "ename": "NameError",
          "evalue": "name 'obj' is not defined",
          "traceback": [
            "\u001b[0;31m---------------------------------------------------------------------------\u001b[0m",
            "\u001b[0;31mNameError\u001b[0m                                 Traceback (most recent call last)",
            "\u001b[0;32m/tmp/ipython-input-4-2220928381.py\u001b[0m in \u001b[0;36m<cell line: 0>\u001b[0;34m()\u001b[0m\n\u001b[0;32m----> 1\u001b[0;31m \u001b[0mobj\u001b[0m \u001b[0;34m+\u001b[0m \u001b[0;36m2\u001b[0m\u001b[0;34m\u001b[0m\u001b[0;34m\u001b[0m\u001b[0m\n\u001b[0m",
            "\u001b[0;31mNameError\u001b[0m: name 'obj' is not defined"
          ]
        }
      ]
    },
    {
      "cell_type": "code",
      "source": [
        "obj + obj"
      ],
      "metadata": {
        "colab": {
          "base_uri": "https://localhost:8080/",
          "height": 141
        },
        "id": "eGnw9BU7whN4",
        "outputId": "464c8d99-857b-4195-8b6c-47547d73e80c"
      },
      "execution_count": null,
      "outputs": [
        {
          "output_type": "error",
          "ename": "NameError",
          "evalue": "name 'obj' is not defined",
          "traceback": [
            "\u001b[0;31m---------------------------------------------------------------------------\u001b[0m",
            "\u001b[0;31mNameError\u001b[0m                                 Traceback (most recent call last)",
            "\u001b[0;32m/tmp/ipython-input-5-3933306352.py\u001b[0m in \u001b[0;36m<cell line: 0>\u001b[0;34m()\u001b[0m\n\u001b[0;32m----> 1\u001b[0;31m \u001b[0mobj\u001b[0m \u001b[0;34m+\u001b[0m \u001b[0mobj\u001b[0m\u001b[0;34m\u001b[0m\u001b[0;34m\u001b[0m\u001b[0m\n\u001b[0m",
            "\u001b[0;31mNameError\u001b[0m: name 'obj' is not defined"
          ]
        }
      ]
    },
    {
      "cell_type": "code",
      "source": [
        "2+ obj\n"
      ],
      "metadata": {
        "colab": {
          "base_uri": "https://localhost:8080/",
          "height": 141
        },
        "id": "RGeiZDSAwiGY",
        "outputId": "271d151c-986f-4100-b32d-01bbbef77888"
      },
      "execution_count": null,
      "outputs": [
        {
          "output_type": "error",
          "ename": "NameError",
          "evalue": "name 'obj' is not defined",
          "traceback": [
            "\u001b[0;31m---------------------------------------------------------------------------\u001b[0m",
            "\u001b[0;31mNameError\u001b[0m                                 Traceback (most recent call last)",
            "\u001b[0;32m/tmp/ipython-input-6-876153128.py\u001b[0m in \u001b[0;36m<cell line: 0>\u001b[0;34m()\u001b[0m\n\u001b[0;32m----> 1\u001b[0;31m \u001b[0;36m2\u001b[0m\u001b[0;34m+\u001b[0m \u001b[0mobj\u001b[0m\u001b[0;34m\u001b[0m\u001b[0;34m\u001b[0m\u001b[0m\n\u001b[0m",
            "\u001b[0;31mNameError\u001b[0m: name 'obj' is not defined"
          ]
        }
      ]
    },
    {
      "cell_type": "code",
      "source": [
        "lst = [1,2]\n",
        "lst.append(lst)\n",
        "l = 0\n",
        "print(lst[2])\n",
        "print(lst)"
      ],
      "metadata": {
        "colab": {
          "base_uri": "https://localhost:8080/"
        },
        "id": "oGBKhiyPwkHo",
        "outputId": "ae52d822-f726-4bfe-8ce1-f60703194b74"
      },
      "execution_count": null,
      "outputs": [
        {
          "output_type": "stream",
          "name": "stdout",
          "text": [
            "[1, 2, [...]]\n",
            "[1, 2, [...]]\n"
          ]
        }
      ]
    },
    {
      "cell_type": "code",
      "source": [
        "import numpy as np\n",
        "\n",
        "\n",
        "n =np.array([1,2,333,4,5]).reshape(5,1)\n",
        "\n",
        "n[n % 2 != 0 ] = -1\n",
        "print(n)"
      ],
      "metadata": {
        "colab": {
          "base_uri": "https://localhost:8080/"
        },
        "id": "bA4Ez-u_xPm4",
        "outputId": "b569dfbf-975e-4c9c-d998-26f55503c725"
      },
      "execution_count": null,
      "outputs": [
        {
          "output_type": "stream",
          "name": "stdout",
          "text": [
            "[[-1]\n",
            " [ 2]\n",
            " [-1]\n",
            " [ 4]\n",
            " [-1]]\n"
          ]
        }
      ]
    },
    {
      "cell_type": "markdown",
      "source": [],
      "metadata": {
        "id": "QtmWEgW05N5p"
      }
    },
    {
      "cell_type": "code",
      "source": [
        "\"\"\"How do you create a 3x3 matrix filled with zeros?\n",
        "\n",
        "How do you create a 1D NumPy array with numbers from 0 to 9?\n",
        "\n",
        "How do you access the last element of a 2D array?\n",
        "\n",
        "How do you select all elements in the second column of a 3x3 array?\n",
        "\n",
        "How can you reshape a 1D array of size 9 into a 3x3 matrix?\n",
        "\n",
        "How do you multiply two NumPy arrays element-wise?\n",
        "\n",
        "How do you calculate the dot product of two NumPy arrays?\n",
        "\n",
        "How do you calculate the mean, median, and standard deviation of a NumPy array?\n",
        "\n",
        "How do you filter out values less than 5 from a NumPy array of random integers between 1 and 10?\n",
        "\n",
        "How can you transpose a 3x2 array to a 2x3 array?\n",
        "\n",
        "How do you find the index of the maximum value in a NumPy array?\n",
        "\n",
        "How do you replace all negative values in a NumPy array with 0?\n",
        "\n",
        "How do you stack two NumPy arrays vertically and horizontally?\n",
        "\n",
        "How do you concatenate two 1D arrays into a single 1D array?\n",
        "\n",
        "How do you get the sum of each column in a 2D NumPy array?\n",
        "\n",
        "\"\"\""
      ],
      "metadata": {
        "colab": {
          "base_uri": "https://localhost:8080/",
          "height": 244
        },
        "id": "Jj72fjMT2r5o",
        "outputId": "5a987656-55c2-4b89-d200-8010e3d7a08d"
      },
      "execution_count": null,
      "outputs": [
        {
          "output_type": "execute_result",
          "data": {
            "text/plain": [
              "'How do you create a 3x3 matrix filled with zeros?\\n\\nHow do you create a 1D NumPy array with numbers from 0 to 9?\\n\\nHow do you access the last element of a 2D array?\\n\\nHow do you select all elements in the second column of a 3x3 array?\\n\\nHow can you reshape a 1D array of size 9 into a 3x3 matrix?\\n\\nHow do you multiply two NumPy arrays element-wise?\\n\\nHow do you calculate the dot product of two NumPy arrays?\\n\\nHow do you calculate the mean, median, and standard deviation of a NumPy array?\\n\\nHow do you filter out values less than 5 from a NumPy array of random integers between 1 and 10?\\n\\nHow can you transpose a 3x2 array to a 2x3 array?\\n\\nHow do you find the index of the maximum value in a NumPy array?\\n\\nHow do you replace all negative values in a NumPy array with 0?\\n\\nHow do you stack two NumPy arrays vertically and horizontally?\\n\\nHow do you concatenate two 1D arrays into a single 1D array?\\n\\nHow do you get the sum of each column in a 2D NumPy array?\\n\\n'"
            ],
            "application/vnd.google.colaboratory.intrinsic+json": {
              "type": "string"
            }
          },
          "metadata": {},
          "execution_count": 27
        }
      ]
    },
    {
      "cell_type": "code",
      "source": [
        "\"there are 4 pdfs , by 11 complete minimum 4- sai ram\""
      ],
      "metadata": {
        "colab": {
          "base_uri": "https://localhost:8080/",
          "height": 35
        },
        "id": "CmlbS4WZ5VgZ",
        "outputId": "e289e288-290a-4008-bd3c-43437952b5d0"
      },
      "execution_count": null,
      "outputs": [
        {
          "output_type": "execute_result",
          "data": {
            "text/plain": [
              "'there are 4 pdfs , by 11 complete minimum 4- sai ram'"
            ],
            "application/vnd.google.colaboratory.intrinsic+json": {
              "type": "string"
            }
          },
          "metadata": {},
          "execution_count": 29
        }
      ]
    },
    {
      "cell_type": "code",
      "source": [
        "import numpy as np\n",
        "n = np.zeros((3,3))\n",
        "print(n)"
      ],
      "metadata": {
        "colab": {
          "base_uri": "https://localhost:8080/"
        },
        "id": "neCLQwD_5iWo",
        "outputId": "b8635d04-5c5f-4c2a-efdc-a92574419073"
      },
      "execution_count": null,
      "outputs": [
        {
          "output_type": "stream",
          "name": "stdout",
          "text": [
            "[[0. 0. 0.]\n",
            " [0. 0. 0.]\n",
            " [0. 0. 0.]]\n"
          ]
        }
      ]
    },
    {
      "cell_type": "code",
      "source": [
        "import pandas as pd\n"
      ],
      "metadata": {
        "id": "MAC2abfx5peJ"
      },
      "execution_count": null,
      "outputs": []
    },
    {
      "cell_type": "code",
      "source": [
        "print(np.arange(3,3))"
      ],
      "metadata": {
        "colab": {
          "base_uri": "https://localhost:8080/"
        },
        "id": "tpQy35Zz52vZ",
        "outputId": "d474224e-d36e-4529-8bf8-13f6257b517d"
      },
      "execution_count": null,
      "outputs": [
        {
          "output_type": "stream",
          "name": "stdout",
          "text": [
            "[]\n"
          ]
        }
      ]
    },
    {
      "cell_type": "code",
      "source": [
        "print(n[-1])"
      ],
      "metadata": {
        "colab": {
          "base_uri": "https://localhost:8080/"
        },
        "id": "NHx5vSu_6UAp",
        "outputId": "465b95c9-5fc7-445b-f4cc-2b702ba4b39f"
      },
      "execution_count": null,
      "outputs": [
        {
          "output_type": "stream",
          "name": "stdout",
          "text": [
            "[0. 0. 0.]\n"
          ]
        }
      ]
    },
    {
      "cell_type": "code",
      "source": [
        "n = np.arange(9).reshape(3,3)\n",
        "print(n)\n",
        "print(n[1][::])# 2nd coulum all ele ela?\n"
      ],
      "metadata": {
        "colab": {
          "base_uri": "https://localhost:8080/"
        },
        "id": "cN3w4nno7FeJ",
        "outputId": "bfdb76e7-6973-4ac5-ea6a-b1e6d635c00a"
      },
      "execution_count": null,
      "outputs": [
        {
          "output_type": "stream",
          "name": "stdout",
          "text": [
            "[[0 1 2]\n",
            " [3 4 5]\n",
            " [6 7 8]]\n",
            "[3 4 5]\n"
          ]
        }
      ]
    },
    {
      "cell_type": "code",
      "source": [
        "m = n\n",
        "mm = n.dot(m)"
      ],
      "metadata": {
        "id": "2ErExq2C7Y_I"
      },
      "execution_count": null,
      "outputs": []
    },
    {
      "cell_type": "code",
      "source": [
        "print(mm)"
      ],
      "metadata": {
        "id": "-_7M1gxr8ieZ",
        "outputId": "21f0bae2-4458-4a6a-a572-b9486a8aef8a",
        "colab": {
          "base_uri": "https://localhost:8080/"
        }
      },
      "execution_count": null,
      "outputs": [
        {
          "output_type": "stream",
          "name": "stdout",
          "text": [
            "[[ 15  18  21]\n",
            " [ 42  54  66]\n",
            " [ 69  90 111]]\n"
          ]
        }
      ]
    },
    {
      "cell_type": "code",
      "source": [],
      "metadata": {
        "id": "yJT_XPmX8kX5"
      },
      "execution_count": null,
      "outputs": []
    },
    {
      "cell_type": "code",
      "source": [],
      "metadata": {
        "id": "-9PXEbwP02Bj"
      },
      "execution_count": null,
      "outputs": []
    },
    {
      "cell_type": "markdown",
      "source": [
        "# Week 2\n",
        "\n"
      ],
      "metadata": {
        "id": "J1MiZEhR03e6"
      }
    },
    {
      "cell_type": "code",
      "source": [
        "import sklearn\n"
      ],
      "metadata": {
        "id": "XrIPceQG08Ry"
      },
      "execution_count": null,
      "outputs": []
    },
    {
      "cell_type": "code",
      "source": [
        "from sklearn import datasets"
      ],
      "metadata": {
        "id": "Bh6AY_Ky1DHW"
      },
      "execution_count": null,
      "outputs": []
    },
    {
      "cell_type": "code",
      "source": [
        "df = datasets.load_iris()"
      ],
      "metadata": {
        "id": "Cz_bLiOA1Hgl"
      },
      "execution_count": null,
      "outputs": []
    },
    {
      "cell_type": "code",
      "source": [
        "# Import necessary libraries\n",
        "from sklearn.datasets import load_iris\n",
        "from sklearn.model_selection import train_test_split\n",
        "from sklearn.linear_model import LogisticRegression\n",
        "from sklearn.metrics import accuracy_score\n",
        "\n",
        "# Load the Iris dataset\n",
        "iris = load_iris()\n",
        "X = iris.data  # Features\n",
        "y = iris.target  # Labels\n",
        "\n",
        "# Split the data into training and testing sets\n",
        "X_train, X_test, y_train, y_test = train_test_split(X, y, test_size=0.3, random_state=42)\n",
        "\n",
        "# Create a logistic regression model\n",
        "model = LogisticRegression(max_iter=200)\n",
        "\n",
        "# Train the model\n",
        "model.fit(X_train, y_train)\n",
        "\n",
        "# Make predictions on the test set\n",
        "y_pred = model.predict(X_test)\n",
        "\n",
        "# Evaluate the model\n",
        "accuracy = accuracy_score(y_test, y_pred)\n",
        "\n",
        "print(f\"Accuracy: {accuracy * 100:.2f}%\")\n"
      ],
      "metadata": {
        "colab": {
          "base_uri": "https://localhost:8080/"
        },
        "id": "mYAlJt4a1LfF",
        "outputId": "c5b4c0b5-8b98-490b-fd24-bc4b1c821c37"
      },
      "execution_count": null,
      "outputs": [
        {
          "output_type": "stream",
          "name": "stdout",
          "text": [
            "Accuracy: 100.00%\n"
          ]
        }
      ]
    },
    {
      "cell_type": "code",
      "source": [
        "\n",
        "print(f\"Accuracy: {accuracy }%\")"
      ],
      "metadata": {
        "colab": {
          "base_uri": "https://localhost:8080/"
        },
        "id": "yUzs47BG4UHF",
        "outputId": "4a68d662-5a95-4234-c688-84b9cf1ccb61"
      },
      "execution_count": null,
      "outputs": [
        {
          "output_type": "stream",
          "name": "stdout",
          "text": [
            "Accuracy: 1.0%\n"
          ]
        }
      ]
    },
    {
      "cell_type": "code",
      "source": [
        "iris_path = \"/content/Iris.csv\""
      ],
      "metadata": {
        "id": "0tRO_LQH5Bq4"
      },
      "execution_count": null,
      "outputs": []
    },
    {
      "cell_type": "code",
      "source": [
        "# Write a Python program to load the iris data from a given csv file into a dataframe and\n",
        "# print the shape of the data, type of the data and first 3 rows.\n",
        "\n",
        "import pandas as pd\n",
        "iris_path = \"/content/Iris.csv\"\n",
        "# df = pd.DataFrame(iris_path)\n",
        "df = pd.read_csv(iris_path)\n",
        "# example = pd.DataFrame()\n",
        "print(\"---------------type---------------------------------\")\n",
        "# print(type(example))\n",
        "print(type(df))\n",
        "print(\"----------------------shape--------------------------\")\n",
        "print(df.shape)\n",
        "print(\"---------------------------info---------------------\")\n",
        "print(df.info)\n",
        "print(\"-------------------------------head-----------------\")\n",
        "print(df.head(3))"
      ],
      "metadata": {
        "colab": {
          "base_uri": "https://localhost:8080/"
        },
        "id": "bEEnHxd2_Fze",
        "outputId": "da70fca7-340d-4262-bb56-fe21b322db5f"
      },
      "execution_count": null,
      "outputs": [
        {
          "output_type": "stream",
          "name": "stdout",
          "text": [
            "---------------type---------------------------------\n",
            "<class 'pandas.core.frame.DataFrame'>\n",
            "----------------------shape--------------------------\n",
            "(150, 6)\n",
            "---------------------------info---------------------\n",
            "<bound method DataFrame.info of       Id  SepalLengthCm  SepalWidthCm  PetalLengthCm  PetalWidthCm  \\\n",
            "0      1            5.1           3.5            1.4           0.2   \n",
            "1      2            4.9           3.0            1.4           0.2   \n",
            "2      3            4.7           3.2            1.3           0.2   \n",
            "3      4            4.6           3.1            1.5           0.2   \n",
            "4      5            5.0           3.6            1.4           0.2   \n",
            "..   ...            ...           ...            ...           ...   \n",
            "145  146            6.7           3.0            5.2           2.3   \n",
            "146  147            6.3           2.5            5.0           1.9   \n",
            "147  148            6.5           3.0            5.2           2.0   \n",
            "148  149            6.2           3.4            5.4           2.3   \n",
            "149  150            5.9           3.0            5.1           1.8   \n",
            "\n",
            "            Species  \n",
            "0       Iris-setosa  \n",
            "1       Iris-setosa  \n",
            "2       Iris-setosa  \n",
            "3       Iris-setosa  \n",
            "4       Iris-setosa  \n",
            "..              ...  \n",
            "145  Iris-virginica  \n",
            "146  Iris-virginica  \n",
            "147  Iris-virginica  \n",
            "148  Iris-virginica  \n",
            "149  Iris-virginica  \n",
            "\n",
            "[150 rows x 6 columns]>\n",
            "-------------------------------head-----------------\n",
            "   Id  SepalLengthCm  SepalWidthCm  PetalLengthCm  PetalWidthCm      Species\n",
            "0   1            5.1           3.5            1.4           0.2  Iris-setosa\n",
            "1   2            4.9           3.0            1.4           0.2  Iris-setosa\n",
            "2   3            4.7           3.2            1.3           0.2  Iris-setosa\n"
          ]
        }
      ]
    },
    {
      "cell_type": "code",
      "source": [
        "# Write a Python program using Scikit-learn to print the keys, number of rows-columns,\n",
        "# feature names and the description of the Iris data.\n",
        "\n",
        "import sklearn\n",
        "\n"
      ],
      "metadata": {
        "id": "V-oL3oF6_cTe"
      },
      "execution_count": null,
      "outputs": []
    },
    {
      "cell_type": "code",
      "source": [
        "# feature names and the description of the Iris data.\n",
        "# 3. Write a Python program to get the number of observations, missing values and nan\n",
        "# values.\n",
        "# 4. Write a Python program to view basic statistical details like percentile, mean, std etc.\n",
        "# of iris data.\n",
        "# 5. Write a Python program to get observations of each species (setosa, versicolor,\n",
        "# virginica) from iris data.\n",
        "# 6. Write a Python program to drop Id column from a given Dataframe and print the\n",
        "# modified part. Call iris.csv to create the Dataframe.\n",
        "# 7. Write a Python program to access first four cells from a given Dataframe using the\n",
        "# index and column labels. Call iris.csv to create the Dataframe.\n",
        "# 8. Write a Python program to create a plot to get a general Statistics of Iris data.\n",
        "# 9. Write a Python program to create a Bar plot to get the frequency of the three species\n",
        "# of the Iris data.\n",
        "# 10. Write a Python program to create a Pie plot to get the frequency of the three species of\n",
        "# the Iris data.\n",
        "# 11. Write a Python program to create a graph to find relationship between the sepal length\n",
        "# and width.\n",
        "# 12. Write a Python program to create a graph to find relationship between the petal length\n",
        "# and width.\n",
        "# 13. Write a Python program to create a graph to see how the length and width of\n",
        "# SepalLength, SepalWidth, PetalLength, PetalWidth are distributed.\n",
        "# 14. Write a Python program to create a joinplot to describe individual distributions on the\n",
        "# same plot between Sepal length and Sepal width.\n",
        "# 15. Write a Python program to create a joinplot using \"hexbin\" to describe individual\n",
        "# distributions on the same plot between Sepal length and Sepal width.\n",
        "# Note:The bivariate analogue of a histogram is known as a \"hexbin\" plot, because it\n",
        "# shows the counts of observations that fall within hexagonal bins. This plot works best\n",
        "# with relatively large datasets. It's available through the matplotlib plt.hexbin function\n",
        "# and as a style in jointplot(). It looks best with a white background.\n",
        "# 16. Write a Python program to create a joinplot using \"kde\" to describe individual\n",
        "# distributions on the same plot between Sepal length and Sepal width.\n",
        "# Note:The kernel density estimation (kde) procedure visualize a bivariate distribution.\n",
        "# In seaborn, this kind of plot is shown with a contour plot and is available as a style in\n",
        "# jointplot().\n",
        "# 17. Write a Python program to draw a scatterplot, then add a joint density estimate to\n",
        "# describe individual distributions on the same plot between Sepal length and Sepal\n",
        "# width.\n",
        "# 18. Write a Python program to find the correlation between variables of iris data. Also\n",
        "# create a hitmap using Seaborn to present their relations.\n",
        "\n",
        "# 19. Write a Python program to create a box plot (or box-and-whisker plot) which shows\n",
        "# the distribution of quantitative data in a way that facilitates comparisons between\n",
        "# variables or across levels of a categorical variable of iris dataset. Use seaborn.\n",
        "# 20. Write a Python program to split the iris dataset into its attributes (X) and labels (y).\n",
        "# The X variable contains the first four columns (i.e. attributes) and y contains the labels\n",
        "# of the dataset.\n",
        "# 21. Write a Python program using Scikit-learn to split the iris dataset into 70% train data\n",
        "# and 30% test data. Out of total 150 records, the training set will contain 120 records\n",
        "# and the test set contains 30 of those records. Print both datasets.\n",
        "# 22. Write a Python program using Scikit-learn to convert Species columns in a numerical\n",
        "# column of the iris dataframe. To encode this data map convert each value to a number.\n",
        "# e.g. Iris-setosa:0, Iris-versicolor:1, and Iris-virginica:2. Now print the iris dataset into\n",
        "# 80% train data and 20% test data. Out of total 150 records, the training set will contain\n",
        "# 120 records and the test set contains 30 of those records. Print both datasets."
      ],
      "metadata": {
        "id": "hbT8wa4eFwMt"
      },
      "execution_count": null,
      "outputs": []
    },
    {
      "cell_type": "code",
      "source": [],
      "metadata": {
        "id": "HsP3p1uKFxdO"
      },
      "execution_count": null,
      "outputs": []
    },
    {
      "cell_type": "code",
      "source": [],
      "metadata": {
        "id": "q1XjAiSJfYvh"
      },
      "execution_count": null,
      "outputs": []
    },
    {
      "cell_type": "markdown",
      "source": [
        "#week 2.5\n"
      ],
      "metadata": {
        "id": "8U_MUOBhfa9W"
      }
    },
    {
      "cell_type": "code",
      "source": [
        "import matplotlib.pyplot as plt\n",
        "import pandas as pd\n",
        "import numpy as np\n",
        "import sklearn\n",
        "import seaborn as sns\n"
      ],
      "metadata": {
        "id": "WbMACRmLfeJx"
      },
      "execution_count": 1,
      "outputs": []
    },
    {
      "cell_type": "code",
      "source": [
        "#importing using csv_read\n",
        "\n",
        "import pandas as pd\n",
        "\n",
        "# df = pd.read_csv(\"iris.csv\")\n",
        "# print(\"Shape of data:\", df.shape)\n",
        "# print(\"Type of data:\", type(df))\n",
        "# print(\"First 3 rows:\")\n",
        "# print(df.head(3))\n"
      ],
      "metadata": {
        "id": "l_JKnig1fq3a"
      },
      "execution_count": 5,
      "outputs": []
    },
    {
      "cell_type": "code",
      "source": [
        "#using sklearn iris dataset\n",
        "\n",
        "from sklearn.datasets import load_iris\n",
        "\n",
        "iris = load_iris()\n",
        "print(\"Keys:\", iris.keys())\n",
        "print(\"Data shape:\", iris.data.shape)\n",
        "print(\"Feature names:\", iris.feature_names)\n",
        "print(\"Description:\\n\", iris.DESCR)\n"
      ],
      "metadata": {
        "colab": {
          "base_uri": "https://localhost:8080/"
        },
        "id": "ZIZ1U-dwf2L-",
        "outputId": "21ace9e9-c371-4941-cf38-52942e6f2b97"
      },
      "execution_count": 6,
      "outputs": [
        {
          "output_type": "stream",
          "name": "stdout",
          "text": [
            "Keys: dict_keys(['data', 'target', 'frame', 'target_names', 'DESCR', 'feature_names', 'filename', 'data_module'])\n",
            "Data shape: (150, 4)\n",
            "Feature names: ['sepal length (cm)', 'sepal width (cm)', 'petal length (cm)', 'petal width (cm)']\n",
            "Description:\n",
            " .. _iris_dataset:\n",
            "\n",
            "Iris plants dataset\n",
            "--------------------\n",
            "\n",
            "**Data Set Characteristics:**\n",
            "\n",
            ":Number of Instances: 150 (50 in each of three classes)\n",
            ":Number of Attributes: 4 numeric, predictive attributes and the class\n",
            ":Attribute Information:\n",
            "    - sepal length in cm\n",
            "    - sepal width in cm\n",
            "    - petal length in cm\n",
            "    - petal width in cm\n",
            "    - class:\n",
            "            - Iris-Setosa\n",
            "            - Iris-Versicolour\n",
            "            - Iris-Virginica\n",
            "\n",
            ":Summary Statistics:\n",
            "\n",
            "============== ==== ==== ======= ===== ====================\n",
            "                Min  Max   Mean    SD   Class Correlation\n",
            "============== ==== ==== ======= ===== ====================\n",
            "sepal length:   4.3  7.9   5.84   0.83    0.7826\n",
            "sepal width:    2.0  4.4   3.05   0.43   -0.4194\n",
            "petal length:   1.0  6.9   3.76   1.76    0.9490  (high!)\n",
            "petal width:    0.1  2.5   1.20   0.76    0.9565  (high!)\n",
            "============== ==== ==== ======= ===== ====================\n",
            "\n",
            ":Missing Attribute Values: None\n",
            ":Class Distribution: 33.3% for each of 3 classes.\n",
            ":Creator: R.A. Fisher\n",
            ":Donor: Michael Marshall (MARSHALL%PLU@io.arc.nasa.gov)\n",
            ":Date: July, 1988\n",
            "\n",
            "The famous Iris database, first used by Sir R.A. Fisher. The dataset is taken\n",
            "from Fisher's paper. Note that it's the same as in R, but not as in the UCI\n",
            "Machine Learning Repository, which has two wrong data points.\n",
            "\n",
            "This is perhaps the best known database to be found in the\n",
            "pattern recognition literature.  Fisher's paper is a classic in the field and\n",
            "is referenced frequently to this day.  (See Duda & Hart, for example.)  The\n",
            "data set contains 3 classes of 50 instances each, where each class refers to a\n",
            "type of iris plant.  One class is linearly separable from the other 2; the\n",
            "latter are NOT linearly separable from each other.\n",
            "\n",
            ".. dropdown:: References\n",
            "\n",
            "  - Fisher, R.A. \"The use of multiple measurements in taxonomic problems\"\n",
            "    Annual Eugenics, 7, Part II, 179-188 (1936); also in \"Contributions to\n",
            "    Mathematical Statistics\" (John Wiley, NY, 1950).\n",
            "  - Duda, R.O., & Hart, P.E. (1973) Pattern Classification and Scene Analysis.\n",
            "    (Q327.D83) John Wiley & Sons.  ISBN 0-471-22361-1.  See page 218.\n",
            "  - Dasarathy, B.V. (1980) \"Nosing Around the Neighborhood: A New System\n",
            "    Structure and Classification Rule for Recognition in Partially Exposed\n",
            "    Environments\".  IEEE Transactions on Pattern Analysis and Machine\n",
            "    Intelligence, Vol. PAMI-2, No. 1, 67-71.\n",
            "  - Gates, G.W. (1972) \"The Reduced Nearest Neighbor Rule\".  IEEE Transactions\n",
            "    on Information Theory, May 1972, 431-433.\n",
            "  - See also: 1988 MLC Proceedings, 54-64.  Cheeseman et al\"s AUTOCLASS II\n",
            "    conceptual clustering system finds 3 classes in the data.\n",
            "  - Many, many more ...\n",
            "\n"
          ]
        }
      ]
    },
    {
      "cell_type": "code",
      "source": [
        "# print(\"number of observations\" , df)\n",
        "df = pd.read_csv(\"/content/Iris.csv\")"
      ],
      "metadata": {
        "id": "SOqdVN4Ch_DU"
      },
      "execution_count": 23,
      "outputs": []
    },
    {
      "cell_type": "code",
      "source": [
        "print(\"number of observations \" , df.shape[0] )\n",
        "print(\"---------------\")\n",
        "print(\"missing values count\" , df.isnull().sum())\n",
        "print(\"---------------\")\n",
        "print(\"nan\", df.isna().sum())\n"
      ],
      "metadata": {
        "colab": {
          "base_uri": "https://localhost:8080/"
        },
        "id": "u-xsQgoXirRj",
        "outputId": "d75cd026-28ad-435e-8040-525ccaf9ab3e"
      },
      "execution_count": 12,
      "outputs": [
        {
          "output_type": "stream",
          "name": "stdout",
          "text": [
            "number of observations  150\n",
            "---------------\n",
            "missing values count Id               0\n",
            "SepalLengthCm    0\n",
            "SepalWidthCm     0\n",
            "PetalLengthCm    0\n",
            "PetalWidthCm     0\n",
            "Species          0\n",
            "dtype: int64\n",
            "---------------\n",
            "nan Id               0\n",
            "SepalLengthCm    0\n",
            "SepalWidthCm     0\n",
            "PetalLengthCm    0\n",
            "PetalWidthCm     0\n",
            "Species          0\n",
            "dtype: int64\n"
          ]
        }
      ]
    },
    {
      "cell_type": "code",
      "source": [
        "#stat data\n",
        "df.describe()"
      ],
      "metadata": {
        "colab": {
          "base_uri": "https://localhost:8080/",
          "height": 300
        },
        "id": "xlVATUIIj7fK",
        "outputId": "618bb7cd-a455-45c8-f046-66c9761b3654"
      },
      "execution_count": 13,
      "outputs": [
        {
          "output_type": "execute_result",
          "data": {
            "text/plain": [
              "               Id  SepalLengthCm  SepalWidthCm  PetalLengthCm  PetalWidthCm\n",
              "count  150.000000     150.000000    150.000000     150.000000    150.000000\n",
              "mean    75.500000       5.843333      3.054000       3.758667      1.198667\n",
              "std     43.445368       0.828066      0.433594       1.764420      0.763161\n",
              "min      1.000000       4.300000      2.000000       1.000000      0.100000\n",
              "25%     38.250000       5.100000      2.800000       1.600000      0.300000\n",
              "50%     75.500000       5.800000      3.000000       4.350000      1.300000\n",
              "75%    112.750000       6.400000      3.300000       5.100000      1.800000\n",
              "max    150.000000       7.900000      4.400000       6.900000      2.500000"
            ],
            "text/html": [
              "\n",
              "  <div id=\"df-7ce12ca8-7d04-4527-9969-7bf32c62f18e\" class=\"colab-df-container\">\n",
              "    <div>\n",
              "<style scoped>\n",
              "    .dataframe tbody tr th:only-of-type {\n",
              "        vertical-align: middle;\n",
              "    }\n",
              "\n",
              "    .dataframe tbody tr th {\n",
              "        vertical-align: top;\n",
              "    }\n",
              "\n",
              "    .dataframe thead th {\n",
              "        text-align: right;\n",
              "    }\n",
              "</style>\n",
              "<table border=\"1\" class=\"dataframe\">\n",
              "  <thead>\n",
              "    <tr style=\"text-align: right;\">\n",
              "      <th></th>\n",
              "      <th>Id</th>\n",
              "      <th>SepalLengthCm</th>\n",
              "      <th>SepalWidthCm</th>\n",
              "      <th>PetalLengthCm</th>\n",
              "      <th>PetalWidthCm</th>\n",
              "    </tr>\n",
              "  </thead>\n",
              "  <tbody>\n",
              "    <tr>\n",
              "      <th>count</th>\n",
              "      <td>150.000000</td>\n",
              "      <td>150.000000</td>\n",
              "      <td>150.000000</td>\n",
              "      <td>150.000000</td>\n",
              "      <td>150.000000</td>\n",
              "    </tr>\n",
              "    <tr>\n",
              "      <th>mean</th>\n",
              "      <td>75.500000</td>\n",
              "      <td>5.843333</td>\n",
              "      <td>3.054000</td>\n",
              "      <td>3.758667</td>\n",
              "      <td>1.198667</td>\n",
              "    </tr>\n",
              "    <tr>\n",
              "      <th>std</th>\n",
              "      <td>43.445368</td>\n",
              "      <td>0.828066</td>\n",
              "      <td>0.433594</td>\n",
              "      <td>1.764420</td>\n",
              "      <td>0.763161</td>\n",
              "    </tr>\n",
              "    <tr>\n",
              "      <th>min</th>\n",
              "      <td>1.000000</td>\n",
              "      <td>4.300000</td>\n",
              "      <td>2.000000</td>\n",
              "      <td>1.000000</td>\n",
              "      <td>0.100000</td>\n",
              "    </tr>\n",
              "    <tr>\n",
              "      <th>25%</th>\n",
              "      <td>38.250000</td>\n",
              "      <td>5.100000</td>\n",
              "      <td>2.800000</td>\n",
              "      <td>1.600000</td>\n",
              "      <td>0.300000</td>\n",
              "    </tr>\n",
              "    <tr>\n",
              "      <th>50%</th>\n",
              "      <td>75.500000</td>\n",
              "      <td>5.800000</td>\n",
              "      <td>3.000000</td>\n",
              "      <td>4.350000</td>\n",
              "      <td>1.300000</td>\n",
              "    </tr>\n",
              "    <tr>\n",
              "      <th>75%</th>\n",
              "      <td>112.750000</td>\n",
              "      <td>6.400000</td>\n",
              "      <td>3.300000</td>\n",
              "      <td>5.100000</td>\n",
              "      <td>1.800000</td>\n",
              "    </tr>\n",
              "    <tr>\n",
              "      <th>max</th>\n",
              "      <td>150.000000</td>\n",
              "      <td>7.900000</td>\n",
              "      <td>4.400000</td>\n",
              "      <td>6.900000</td>\n",
              "      <td>2.500000</td>\n",
              "    </tr>\n",
              "  </tbody>\n",
              "</table>\n",
              "</div>\n",
              "    <div class=\"colab-df-buttons\">\n",
              "\n",
              "  <div class=\"colab-df-container\">\n",
              "    <button class=\"colab-df-convert\" onclick=\"convertToInteractive('df-7ce12ca8-7d04-4527-9969-7bf32c62f18e')\"\n",
              "            title=\"Convert this dataframe to an interactive table.\"\n",
              "            style=\"display:none;\">\n",
              "\n",
              "  <svg xmlns=\"http://www.w3.org/2000/svg\" height=\"24px\" viewBox=\"0 -960 960 960\">\n",
              "    <path d=\"M120-120v-720h720v720H120Zm60-500h600v-160H180v160Zm220 220h160v-160H400v160Zm0 220h160v-160H400v160ZM180-400h160v-160H180v160Zm440 0h160v-160H620v160ZM180-180h160v-160H180v160Zm440 0h160v-160H620v160Z\"/>\n",
              "  </svg>\n",
              "    </button>\n",
              "\n",
              "  <style>\n",
              "    .colab-df-container {\n",
              "      display:flex;\n",
              "      gap: 12px;\n",
              "    }\n",
              "\n",
              "    .colab-df-convert {\n",
              "      background-color: #E8F0FE;\n",
              "      border: none;\n",
              "      border-radius: 50%;\n",
              "      cursor: pointer;\n",
              "      display: none;\n",
              "      fill: #1967D2;\n",
              "      height: 32px;\n",
              "      padding: 0 0 0 0;\n",
              "      width: 32px;\n",
              "    }\n",
              "\n",
              "    .colab-df-convert:hover {\n",
              "      background-color: #E2EBFA;\n",
              "      box-shadow: 0px 1px 2px rgba(60, 64, 67, 0.3), 0px 1px 3px 1px rgba(60, 64, 67, 0.15);\n",
              "      fill: #174EA6;\n",
              "    }\n",
              "\n",
              "    .colab-df-buttons div {\n",
              "      margin-bottom: 4px;\n",
              "    }\n",
              "\n",
              "    [theme=dark] .colab-df-convert {\n",
              "      background-color: #3B4455;\n",
              "      fill: #D2E3FC;\n",
              "    }\n",
              "\n",
              "    [theme=dark] .colab-df-convert:hover {\n",
              "      background-color: #434B5C;\n",
              "      box-shadow: 0px 1px 3px 1px rgba(0, 0, 0, 0.15);\n",
              "      filter: drop-shadow(0px 1px 2px rgba(0, 0, 0, 0.3));\n",
              "      fill: #FFFFFF;\n",
              "    }\n",
              "  </style>\n",
              "\n",
              "    <script>\n",
              "      const buttonEl =\n",
              "        document.querySelector('#df-7ce12ca8-7d04-4527-9969-7bf32c62f18e button.colab-df-convert');\n",
              "      buttonEl.style.display =\n",
              "        google.colab.kernel.accessAllowed ? 'block' : 'none';\n",
              "\n",
              "      async function convertToInteractive(key) {\n",
              "        const element = document.querySelector('#df-7ce12ca8-7d04-4527-9969-7bf32c62f18e');\n",
              "        const dataTable =\n",
              "          await google.colab.kernel.invokeFunction('convertToInteractive',\n",
              "                                                    [key], {});\n",
              "        if (!dataTable) return;\n",
              "\n",
              "        const docLinkHtml = 'Like what you see? Visit the ' +\n",
              "          '<a target=\"_blank\" href=https://colab.research.google.com/notebooks/data_table.ipynb>data table notebook</a>'\n",
              "          + ' to learn more about interactive tables.';\n",
              "        element.innerHTML = '';\n",
              "        dataTable['output_type'] = 'display_data';\n",
              "        await google.colab.output.renderOutput(dataTable, element);\n",
              "        const docLink = document.createElement('div');\n",
              "        docLink.innerHTML = docLinkHtml;\n",
              "        element.appendChild(docLink);\n",
              "      }\n",
              "    </script>\n",
              "  </div>\n",
              "\n",
              "\n",
              "    <div id=\"df-4c746509-1279-4e8e-a3d0-a55efb293f4f\">\n",
              "      <button class=\"colab-df-quickchart\" onclick=\"quickchart('df-4c746509-1279-4e8e-a3d0-a55efb293f4f')\"\n",
              "                title=\"Suggest charts\"\n",
              "                style=\"display:none;\">\n",
              "\n",
              "<svg xmlns=\"http://www.w3.org/2000/svg\" height=\"24px\"viewBox=\"0 0 24 24\"\n",
              "     width=\"24px\">\n",
              "    <g>\n",
              "        <path d=\"M19 3H5c-1.1 0-2 .9-2 2v14c0 1.1.9 2 2 2h14c1.1 0 2-.9 2-2V5c0-1.1-.9-2-2-2zM9 17H7v-7h2v7zm4 0h-2V7h2v10zm4 0h-2v-4h2v4z\"/>\n",
              "    </g>\n",
              "</svg>\n",
              "      </button>\n",
              "\n",
              "<style>\n",
              "  .colab-df-quickchart {\n",
              "      --bg-color: #E8F0FE;\n",
              "      --fill-color: #1967D2;\n",
              "      --hover-bg-color: #E2EBFA;\n",
              "      --hover-fill-color: #174EA6;\n",
              "      --disabled-fill-color: #AAA;\n",
              "      --disabled-bg-color: #DDD;\n",
              "  }\n",
              "\n",
              "  [theme=dark] .colab-df-quickchart {\n",
              "      --bg-color: #3B4455;\n",
              "      --fill-color: #D2E3FC;\n",
              "      --hover-bg-color: #434B5C;\n",
              "      --hover-fill-color: #FFFFFF;\n",
              "      --disabled-bg-color: #3B4455;\n",
              "      --disabled-fill-color: #666;\n",
              "  }\n",
              "\n",
              "  .colab-df-quickchart {\n",
              "    background-color: var(--bg-color);\n",
              "    border: none;\n",
              "    border-radius: 50%;\n",
              "    cursor: pointer;\n",
              "    display: none;\n",
              "    fill: var(--fill-color);\n",
              "    height: 32px;\n",
              "    padding: 0;\n",
              "    width: 32px;\n",
              "  }\n",
              "\n",
              "  .colab-df-quickchart:hover {\n",
              "    background-color: var(--hover-bg-color);\n",
              "    box-shadow: 0 1px 2px rgba(60, 64, 67, 0.3), 0 1px 3px 1px rgba(60, 64, 67, 0.15);\n",
              "    fill: var(--button-hover-fill-color);\n",
              "  }\n",
              "\n",
              "  .colab-df-quickchart-complete:disabled,\n",
              "  .colab-df-quickchart-complete:disabled:hover {\n",
              "    background-color: var(--disabled-bg-color);\n",
              "    fill: var(--disabled-fill-color);\n",
              "    box-shadow: none;\n",
              "  }\n",
              "\n",
              "  .colab-df-spinner {\n",
              "    border: 2px solid var(--fill-color);\n",
              "    border-color: transparent;\n",
              "    border-bottom-color: var(--fill-color);\n",
              "    animation:\n",
              "      spin 1s steps(1) infinite;\n",
              "  }\n",
              "\n",
              "  @keyframes spin {\n",
              "    0% {\n",
              "      border-color: transparent;\n",
              "      border-bottom-color: var(--fill-color);\n",
              "      border-left-color: var(--fill-color);\n",
              "    }\n",
              "    20% {\n",
              "      border-color: transparent;\n",
              "      border-left-color: var(--fill-color);\n",
              "      border-top-color: var(--fill-color);\n",
              "    }\n",
              "    30% {\n",
              "      border-color: transparent;\n",
              "      border-left-color: var(--fill-color);\n",
              "      border-top-color: var(--fill-color);\n",
              "      border-right-color: var(--fill-color);\n",
              "    }\n",
              "    40% {\n",
              "      border-color: transparent;\n",
              "      border-right-color: var(--fill-color);\n",
              "      border-top-color: var(--fill-color);\n",
              "    }\n",
              "    60% {\n",
              "      border-color: transparent;\n",
              "      border-right-color: var(--fill-color);\n",
              "    }\n",
              "    80% {\n",
              "      border-color: transparent;\n",
              "      border-right-color: var(--fill-color);\n",
              "      border-bottom-color: var(--fill-color);\n",
              "    }\n",
              "    90% {\n",
              "      border-color: transparent;\n",
              "      border-bottom-color: var(--fill-color);\n",
              "    }\n",
              "  }\n",
              "</style>\n",
              "\n",
              "      <script>\n",
              "        async function quickchart(key) {\n",
              "          const quickchartButtonEl =\n",
              "            document.querySelector('#' + key + ' button');\n",
              "          quickchartButtonEl.disabled = true;  // To prevent multiple clicks.\n",
              "          quickchartButtonEl.classList.add('colab-df-spinner');\n",
              "          try {\n",
              "            const charts = await google.colab.kernel.invokeFunction(\n",
              "                'suggestCharts', [key], {});\n",
              "          } catch (error) {\n",
              "            console.error('Error during call to suggestCharts:', error);\n",
              "          }\n",
              "          quickchartButtonEl.classList.remove('colab-df-spinner');\n",
              "          quickchartButtonEl.classList.add('colab-df-quickchart-complete');\n",
              "        }\n",
              "        (() => {\n",
              "          let quickchartButtonEl =\n",
              "            document.querySelector('#df-4c746509-1279-4e8e-a3d0-a55efb293f4f button');\n",
              "          quickchartButtonEl.style.display =\n",
              "            google.colab.kernel.accessAllowed ? 'block' : 'none';\n",
              "        })();\n",
              "      </script>\n",
              "    </div>\n",
              "\n",
              "    </div>\n",
              "  </div>\n"
            ],
            "application/vnd.google.colaboratory.intrinsic+json": {
              "type": "dataframe",
              "summary": "{\n  \"name\": \"df\",\n  \"rows\": 8,\n  \"fields\": [\n    {\n      \"column\": \"Id\",\n      \"properties\": {\n        \"dtype\": \"number\",\n        \"std\": 53.756293020494844,\n        \"min\": 1.0,\n        \"max\": 150.0,\n        \"num_unique_values\": 6,\n        \"samples\": [\n          150.0,\n          75.5,\n          112.75\n        ],\n        \"semantic_type\": \"\",\n        \"description\": \"\"\n      }\n    },\n    {\n      \"column\": \"SepalLengthCm\",\n      \"properties\": {\n        \"dtype\": \"number\",\n        \"std\": 51.24711349471842,\n        \"min\": 0.8280661279778629,\n        \"max\": 150.0,\n        \"num_unique_values\": 8,\n        \"samples\": [\n          5.843333333333334,\n          5.8,\n          150.0\n        ],\n        \"semantic_type\": \"\",\n        \"description\": \"\"\n      }\n    },\n    {\n      \"column\": \"SepalWidthCm\",\n      \"properties\": {\n        \"dtype\": \"number\",\n        \"std\": 52.08647211421483,\n        \"min\": 0.4335943113621737,\n        \"max\": 150.0,\n        \"num_unique_values\": 8,\n        \"samples\": [\n          3.0540000000000003,\n          3.0,\n          150.0\n        ],\n        \"semantic_type\": \"\",\n        \"description\": \"\"\n      }\n    },\n    {\n      \"column\": \"PetalLengthCm\",\n      \"properties\": {\n        \"dtype\": \"number\",\n        \"std\": 51.835227940958106,\n        \"min\": 1.0,\n        \"max\": 150.0,\n        \"num_unique_values\": 8,\n        \"samples\": [\n          3.758666666666666,\n          4.35,\n          150.0\n        ],\n        \"semantic_type\": \"\",\n        \"description\": \"\"\n      }\n    },\n    {\n      \"column\": \"PetalWidthCm\",\n      \"properties\": {\n        \"dtype\": \"number\",\n        \"std\": 52.63663424340991,\n        \"min\": 0.1,\n        \"max\": 150.0,\n        \"num_unique_values\": 8,\n        \"samples\": [\n          1.1986666666666668,\n          1.3,\n          150.0\n        ],\n        \"semantic_type\": \"\",\n        \"description\": \"\"\n      }\n    }\n  ]\n}"
            }
          },
          "metadata": {},
          "execution_count": 13
        }
      ]
    },
    {
      "cell_type": "code",
      "source": [
        "for species, group in df.groupby(\"Species\"):\n",
        "    print(f\"\\nSpecies: {species}\")\n",
        "    print(group)\n",
        "    print(\"------------------\\n\")"
      ],
      "metadata": {
        "colab": {
          "base_uri": "https://localhost:8080/"
        },
        "id": "RXKBM9UTkEyN",
        "outputId": "e074f779-a35a-4aaf-c6fe-04a87ddb2d58"
      },
      "execution_count": 15,
      "outputs": [
        {
          "output_type": "stream",
          "name": "stdout",
          "text": [
            "\n",
            "Species: Iris-setosa\n",
            "    Id  SepalLengthCm  SepalWidthCm  PetalLengthCm  PetalWidthCm      Species\n",
            "0    1            5.1           3.5            1.4           0.2  Iris-setosa\n",
            "1    2            4.9           3.0            1.4           0.2  Iris-setosa\n",
            "2    3            4.7           3.2            1.3           0.2  Iris-setosa\n",
            "3    4            4.6           3.1            1.5           0.2  Iris-setosa\n",
            "4    5            5.0           3.6            1.4           0.2  Iris-setosa\n",
            "5    6            5.4           3.9            1.7           0.4  Iris-setosa\n",
            "6    7            4.6           3.4            1.4           0.3  Iris-setosa\n",
            "7    8            5.0           3.4            1.5           0.2  Iris-setosa\n",
            "8    9            4.4           2.9            1.4           0.2  Iris-setosa\n",
            "9   10            4.9           3.1            1.5           0.1  Iris-setosa\n",
            "10  11            5.4           3.7            1.5           0.2  Iris-setosa\n",
            "11  12            4.8           3.4            1.6           0.2  Iris-setosa\n",
            "12  13            4.8           3.0            1.4           0.1  Iris-setosa\n",
            "13  14            4.3           3.0            1.1           0.1  Iris-setosa\n",
            "14  15            5.8           4.0            1.2           0.2  Iris-setosa\n",
            "15  16            5.7           4.4            1.5           0.4  Iris-setosa\n",
            "16  17            5.4           3.9            1.3           0.4  Iris-setosa\n",
            "17  18            5.1           3.5            1.4           0.3  Iris-setosa\n",
            "18  19            5.7           3.8            1.7           0.3  Iris-setosa\n",
            "19  20            5.1           3.8            1.5           0.3  Iris-setosa\n",
            "20  21            5.4           3.4            1.7           0.2  Iris-setosa\n",
            "21  22            5.1           3.7            1.5           0.4  Iris-setosa\n",
            "22  23            4.6           3.6            1.0           0.2  Iris-setosa\n",
            "23  24            5.1           3.3            1.7           0.5  Iris-setosa\n",
            "24  25            4.8           3.4            1.9           0.2  Iris-setosa\n",
            "25  26            5.0           3.0            1.6           0.2  Iris-setosa\n",
            "26  27            5.0           3.4            1.6           0.4  Iris-setosa\n",
            "27  28            5.2           3.5            1.5           0.2  Iris-setosa\n",
            "28  29            5.2           3.4            1.4           0.2  Iris-setosa\n",
            "29  30            4.7           3.2            1.6           0.2  Iris-setosa\n",
            "30  31            4.8           3.1            1.6           0.2  Iris-setosa\n",
            "31  32            5.4           3.4            1.5           0.4  Iris-setosa\n",
            "32  33            5.2           4.1            1.5           0.1  Iris-setosa\n",
            "33  34            5.5           4.2            1.4           0.2  Iris-setosa\n",
            "34  35            4.9           3.1            1.5           0.1  Iris-setosa\n",
            "35  36            5.0           3.2            1.2           0.2  Iris-setosa\n",
            "36  37            5.5           3.5            1.3           0.2  Iris-setosa\n",
            "37  38            4.9           3.1            1.5           0.1  Iris-setosa\n",
            "38  39            4.4           3.0            1.3           0.2  Iris-setosa\n",
            "39  40            5.1           3.4            1.5           0.2  Iris-setosa\n",
            "40  41            5.0           3.5            1.3           0.3  Iris-setosa\n",
            "41  42            4.5           2.3            1.3           0.3  Iris-setosa\n",
            "42  43            4.4           3.2            1.3           0.2  Iris-setosa\n",
            "43  44            5.0           3.5            1.6           0.6  Iris-setosa\n",
            "44  45            5.1           3.8            1.9           0.4  Iris-setosa\n",
            "45  46            4.8           3.0            1.4           0.3  Iris-setosa\n",
            "46  47            5.1           3.8            1.6           0.2  Iris-setosa\n",
            "47  48            4.6           3.2            1.4           0.2  Iris-setosa\n",
            "48  49            5.3           3.7            1.5           0.2  Iris-setosa\n",
            "49  50            5.0           3.3            1.4           0.2  Iris-setosa\n",
            "------------------\n",
            "\n",
            "\n",
            "Species: Iris-versicolor\n",
            "     Id  SepalLengthCm  SepalWidthCm  PetalLengthCm  PetalWidthCm  \\\n",
            "50   51            7.0           3.2            4.7           1.4   \n",
            "51   52            6.4           3.2            4.5           1.5   \n",
            "52   53            6.9           3.1            4.9           1.5   \n",
            "53   54            5.5           2.3            4.0           1.3   \n",
            "54   55            6.5           2.8            4.6           1.5   \n",
            "55   56            5.7           2.8            4.5           1.3   \n",
            "56   57            6.3           3.3            4.7           1.6   \n",
            "57   58            4.9           2.4            3.3           1.0   \n",
            "58   59            6.6           2.9            4.6           1.3   \n",
            "59   60            5.2           2.7            3.9           1.4   \n",
            "60   61            5.0           2.0            3.5           1.0   \n",
            "61   62            5.9           3.0            4.2           1.5   \n",
            "62   63            6.0           2.2            4.0           1.0   \n",
            "63   64            6.1           2.9            4.7           1.4   \n",
            "64   65            5.6           2.9            3.6           1.3   \n",
            "65   66            6.7           3.1            4.4           1.4   \n",
            "66   67            5.6           3.0            4.5           1.5   \n",
            "67   68            5.8           2.7            4.1           1.0   \n",
            "68   69            6.2           2.2            4.5           1.5   \n",
            "69   70            5.6           2.5            3.9           1.1   \n",
            "70   71            5.9           3.2            4.8           1.8   \n",
            "71   72            6.1           2.8            4.0           1.3   \n",
            "72   73            6.3           2.5            4.9           1.5   \n",
            "73   74            6.1           2.8            4.7           1.2   \n",
            "74   75            6.4           2.9            4.3           1.3   \n",
            "75   76            6.6           3.0            4.4           1.4   \n",
            "76   77            6.8           2.8            4.8           1.4   \n",
            "77   78            6.7           3.0            5.0           1.7   \n",
            "78   79            6.0           2.9            4.5           1.5   \n",
            "79   80            5.7           2.6            3.5           1.0   \n",
            "80   81            5.5           2.4            3.8           1.1   \n",
            "81   82            5.5           2.4            3.7           1.0   \n",
            "82   83            5.8           2.7            3.9           1.2   \n",
            "83   84            6.0           2.7            5.1           1.6   \n",
            "84   85            5.4           3.0            4.5           1.5   \n",
            "85   86            6.0           3.4            4.5           1.6   \n",
            "86   87            6.7           3.1            4.7           1.5   \n",
            "87   88            6.3           2.3            4.4           1.3   \n",
            "88   89            5.6           3.0            4.1           1.3   \n",
            "89   90            5.5           2.5            4.0           1.3   \n",
            "90   91            5.5           2.6            4.4           1.2   \n",
            "91   92            6.1           3.0            4.6           1.4   \n",
            "92   93            5.8           2.6            4.0           1.2   \n",
            "93   94            5.0           2.3            3.3           1.0   \n",
            "94   95            5.6           2.7            4.2           1.3   \n",
            "95   96            5.7           3.0            4.2           1.2   \n",
            "96   97            5.7           2.9            4.2           1.3   \n",
            "97   98            6.2           2.9            4.3           1.3   \n",
            "98   99            5.1           2.5            3.0           1.1   \n",
            "99  100            5.7           2.8            4.1           1.3   \n",
            "\n",
            "            Species  \n",
            "50  Iris-versicolor  \n",
            "51  Iris-versicolor  \n",
            "52  Iris-versicolor  \n",
            "53  Iris-versicolor  \n",
            "54  Iris-versicolor  \n",
            "55  Iris-versicolor  \n",
            "56  Iris-versicolor  \n",
            "57  Iris-versicolor  \n",
            "58  Iris-versicolor  \n",
            "59  Iris-versicolor  \n",
            "60  Iris-versicolor  \n",
            "61  Iris-versicolor  \n",
            "62  Iris-versicolor  \n",
            "63  Iris-versicolor  \n",
            "64  Iris-versicolor  \n",
            "65  Iris-versicolor  \n",
            "66  Iris-versicolor  \n",
            "67  Iris-versicolor  \n",
            "68  Iris-versicolor  \n",
            "69  Iris-versicolor  \n",
            "70  Iris-versicolor  \n",
            "71  Iris-versicolor  \n",
            "72  Iris-versicolor  \n",
            "73  Iris-versicolor  \n",
            "74  Iris-versicolor  \n",
            "75  Iris-versicolor  \n",
            "76  Iris-versicolor  \n",
            "77  Iris-versicolor  \n",
            "78  Iris-versicolor  \n",
            "79  Iris-versicolor  \n",
            "80  Iris-versicolor  \n",
            "81  Iris-versicolor  \n",
            "82  Iris-versicolor  \n",
            "83  Iris-versicolor  \n",
            "84  Iris-versicolor  \n",
            "85  Iris-versicolor  \n",
            "86  Iris-versicolor  \n",
            "87  Iris-versicolor  \n",
            "88  Iris-versicolor  \n",
            "89  Iris-versicolor  \n",
            "90  Iris-versicolor  \n",
            "91  Iris-versicolor  \n",
            "92  Iris-versicolor  \n",
            "93  Iris-versicolor  \n",
            "94  Iris-versicolor  \n",
            "95  Iris-versicolor  \n",
            "96  Iris-versicolor  \n",
            "97  Iris-versicolor  \n",
            "98  Iris-versicolor  \n",
            "99  Iris-versicolor  \n",
            "------------------\n",
            "\n",
            "\n",
            "Species: Iris-virginica\n",
            "      Id  SepalLengthCm  SepalWidthCm  PetalLengthCm  PetalWidthCm  \\\n",
            "100  101            6.3           3.3            6.0           2.5   \n",
            "101  102            5.8           2.7            5.1           1.9   \n",
            "102  103            7.1           3.0            5.9           2.1   \n",
            "103  104            6.3           2.9            5.6           1.8   \n",
            "104  105            6.5           3.0            5.8           2.2   \n",
            "105  106            7.6           3.0            6.6           2.1   \n",
            "106  107            4.9           2.5            4.5           1.7   \n",
            "107  108            7.3           2.9            6.3           1.8   \n",
            "108  109            6.7           2.5            5.8           1.8   \n",
            "109  110            7.2           3.6            6.1           2.5   \n",
            "110  111            6.5           3.2            5.1           2.0   \n",
            "111  112            6.4           2.7            5.3           1.9   \n",
            "112  113            6.8           3.0            5.5           2.1   \n",
            "113  114            5.7           2.5            5.0           2.0   \n",
            "114  115            5.8           2.8            5.1           2.4   \n",
            "115  116            6.4           3.2            5.3           2.3   \n",
            "116  117            6.5           3.0            5.5           1.8   \n",
            "117  118            7.7           3.8            6.7           2.2   \n",
            "118  119            7.7           2.6            6.9           2.3   \n",
            "119  120            6.0           2.2            5.0           1.5   \n",
            "120  121            6.9           3.2            5.7           2.3   \n",
            "121  122            5.6           2.8            4.9           2.0   \n",
            "122  123            7.7           2.8            6.7           2.0   \n",
            "123  124            6.3           2.7            4.9           1.8   \n",
            "124  125            6.7           3.3            5.7           2.1   \n",
            "125  126            7.2           3.2            6.0           1.8   \n",
            "126  127            6.2           2.8            4.8           1.8   \n",
            "127  128            6.1           3.0            4.9           1.8   \n",
            "128  129            6.4           2.8            5.6           2.1   \n",
            "129  130            7.2           3.0            5.8           1.6   \n",
            "130  131            7.4           2.8            6.1           1.9   \n",
            "131  132            7.9           3.8            6.4           2.0   \n",
            "132  133            6.4           2.8            5.6           2.2   \n",
            "133  134            6.3           2.8            5.1           1.5   \n",
            "134  135            6.1           2.6            5.6           1.4   \n",
            "135  136            7.7           3.0            6.1           2.3   \n",
            "136  137            6.3           3.4            5.6           2.4   \n",
            "137  138            6.4           3.1            5.5           1.8   \n",
            "138  139            6.0           3.0            4.8           1.8   \n",
            "139  140            6.9           3.1            5.4           2.1   \n",
            "140  141            6.7           3.1            5.6           2.4   \n",
            "141  142            6.9           3.1            5.1           2.3   \n",
            "142  143            5.8           2.7            5.1           1.9   \n",
            "143  144            6.8           3.2            5.9           2.3   \n",
            "144  145            6.7           3.3            5.7           2.5   \n",
            "145  146            6.7           3.0            5.2           2.3   \n",
            "146  147            6.3           2.5            5.0           1.9   \n",
            "147  148            6.5           3.0            5.2           2.0   \n",
            "148  149            6.2           3.4            5.4           2.3   \n",
            "149  150            5.9           3.0            5.1           1.8   \n",
            "\n",
            "            Species  \n",
            "100  Iris-virginica  \n",
            "101  Iris-virginica  \n",
            "102  Iris-virginica  \n",
            "103  Iris-virginica  \n",
            "104  Iris-virginica  \n",
            "105  Iris-virginica  \n",
            "106  Iris-virginica  \n",
            "107  Iris-virginica  \n",
            "108  Iris-virginica  \n",
            "109  Iris-virginica  \n",
            "110  Iris-virginica  \n",
            "111  Iris-virginica  \n",
            "112  Iris-virginica  \n",
            "113  Iris-virginica  \n",
            "114  Iris-virginica  \n",
            "115  Iris-virginica  \n",
            "116  Iris-virginica  \n",
            "117  Iris-virginica  \n",
            "118  Iris-virginica  \n",
            "119  Iris-virginica  \n",
            "120  Iris-virginica  \n",
            "121  Iris-virginica  \n",
            "122  Iris-virginica  \n",
            "123  Iris-virginica  \n",
            "124  Iris-virginica  \n",
            "125  Iris-virginica  \n",
            "126  Iris-virginica  \n",
            "127  Iris-virginica  \n",
            "128  Iris-virginica  \n",
            "129  Iris-virginica  \n",
            "130  Iris-virginica  \n",
            "131  Iris-virginica  \n",
            "132  Iris-virginica  \n",
            "133  Iris-virginica  \n",
            "134  Iris-virginica  \n",
            "135  Iris-virginica  \n",
            "136  Iris-virginica  \n",
            "137  Iris-virginica  \n",
            "138  Iris-virginica  \n",
            "139  Iris-virginica  \n",
            "140  Iris-virginica  \n",
            "141  Iris-virginica  \n",
            "142  Iris-virginica  \n",
            "143  Iris-virginica  \n",
            "144  Iris-virginica  \n",
            "145  Iris-virginica  \n",
            "146  Iris-virginica  \n",
            "147  Iris-virginica  \n",
            "148  Iris-virginica  \n",
            "149  Iris-virginica  \n",
            "------------------\n",
            "\n"
          ]
        }
      ]
    },
    {
      "cell_type": "code",
      "source": [
        "df =  df.drop(columns=[\"Id\"])\n",
        "print(df.head())"
      ],
      "metadata": {
        "colab": {
          "base_uri": "https://localhost:8080/",
          "height": 158
        },
        "id": "ESvrrHJ1kJPh",
        "outputId": "605e2f38-2236-47b5-d1cc-1b737d09f186"
      },
      "execution_count": 19,
      "outputs": [
        {
          "output_type": "error",
          "ename": "AttributeError",
          "evalue": "'NoneType' object has no attribute 'drop'",
          "traceback": [
            "\u001b[0;31m---------------------------------------------------------------------------\u001b[0m",
            "\u001b[0;31mAttributeError\u001b[0m                            Traceback (most recent call last)",
            "\u001b[0;32m/tmp/ipython-input-2984400595.py\u001b[0m in \u001b[0;36m<cell line: 0>\u001b[0;34m()\u001b[0m\n\u001b[0;32m----> 1\u001b[0;31m \u001b[0mdf\u001b[0m \u001b[0;34m=\u001b[0m  \u001b[0mdf\u001b[0m\u001b[0;34m.\u001b[0m\u001b[0mdrop\u001b[0m\u001b[0;34m(\u001b[0m\u001b[0mcolumns\u001b[0m\u001b[0;34m=\u001b[0m\u001b[0;34m[\u001b[0m\u001b[0;34m\"Id\"\u001b[0m\u001b[0;34m]\u001b[0m\u001b[0;34m)\u001b[0m\u001b[0;34m\u001b[0m\u001b[0;34m\u001b[0m\u001b[0m\n\u001b[0m\u001b[1;32m      2\u001b[0m \u001b[0mprint\u001b[0m\u001b[0;34m(\u001b[0m\u001b[0mdf\u001b[0m\u001b[0;34m.\u001b[0m\u001b[0mhead\u001b[0m\u001b[0;34m(\u001b[0m\u001b[0;34m)\u001b[0m\u001b[0;34m)\u001b[0m\u001b[0;34m\u001b[0m\u001b[0;34m\u001b[0m\u001b[0m\n",
            "\u001b[0;31mAttributeError\u001b[0m: 'NoneType' object has no attribute 'drop'"
          ]
        }
      ]
    },
    {
      "cell_type": "code",
      "source": [
        "df.iloc[:4,:4]"
      ],
      "metadata": {
        "colab": {
          "base_uri": "https://localhost:8080/",
          "height": 175
        },
        "id": "Md8bHE3VkecS",
        "outputId": "a8c38911-05f7-4004-f14f-5a6d08d26850"
      },
      "execution_count": 24,
      "outputs": [
        {
          "output_type": "execute_result",
          "data": {
            "text/plain": [
              "   Id  SepalLengthCm  SepalWidthCm  PetalLengthCm\n",
              "0   1            5.1           3.5            1.4\n",
              "1   2            4.9           3.0            1.4\n",
              "2   3            4.7           3.2            1.3\n",
              "3   4            4.6           3.1            1.5"
            ],
            "text/html": [
              "\n",
              "  <div id=\"df-38b1bee8-50c9-4f55-a019-fc81bf645046\" class=\"colab-df-container\">\n",
              "    <div>\n",
              "<style scoped>\n",
              "    .dataframe tbody tr th:only-of-type {\n",
              "        vertical-align: middle;\n",
              "    }\n",
              "\n",
              "    .dataframe tbody tr th {\n",
              "        vertical-align: top;\n",
              "    }\n",
              "\n",
              "    .dataframe thead th {\n",
              "        text-align: right;\n",
              "    }\n",
              "</style>\n",
              "<table border=\"1\" class=\"dataframe\">\n",
              "  <thead>\n",
              "    <tr style=\"text-align: right;\">\n",
              "      <th></th>\n",
              "      <th>Id</th>\n",
              "      <th>SepalLengthCm</th>\n",
              "      <th>SepalWidthCm</th>\n",
              "      <th>PetalLengthCm</th>\n",
              "    </tr>\n",
              "  </thead>\n",
              "  <tbody>\n",
              "    <tr>\n",
              "      <th>0</th>\n",
              "      <td>1</td>\n",
              "      <td>5.1</td>\n",
              "      <td>3.5</td>\n",
              "      <td>1.4</td>\n",
              "    </tr>\n",
              "    <tr>\n",
              "      <th>1</th>\n",
              "      <td>2</td>\n",
              "      <td>4.9</td>\n",
              "      <td>3.0</td>\n",
              "      <td>1.4</td>\n",
              "    </tr>\n",
              "    <tr>\n",
              "      <th>2</th>\n",
              "      <td>3</td>\n",
              "      <td>4.7</td>\n",
              "      <td>3.2</td>\n",
              "      <td>1.3</td>\n",
              "    </tr>\n",
              "    <tr>\n",
              "      <th>3</th>\n",
              "      <td>4</td>\n",
              "      <td>4.6</td>\n",
              "      <td>3.1</td>\n",
              "      <td>1.5</td>\n",
              "    </tr>\n",
              "  </tbody>\n",
              "</table>\n",
              "</div>\n",
              "    <div class=\"colab-df-buttons\">\n",
              "\n",
              "  <div class=\"colab-df-container\">\n",
              "    <button class=\"colab-df-convert\" onclick=\"convertToInteractive('df-38b1bee8-50c9-4f55-a019-fc81bf645046')\"\n",
              "            title=\"Convert this dataframe to an interactive table.\"\n",
              "            style=\"display:none;\">\n",
              "\n",
              "  <svg xmlns=\"http://www.w3.org/2000/svg\" height=\"24px\" viewBox=\"0 -960 960 960\">\n",
              "    <path d=\"M120-120v-720h720v720H120Zm60-500h600v-160H180v160Zm220 220h160v-160H400v160Zm0 220h160v-160H400v160ZM180-400h160v-160H180v160Zm440 0h160v-160H620v160ZM180-180h160v-160H180v160Zm440 0h160v-160H620v160Z\"/>\n",
              "  </svg>\n",
              "    </button>\n",
              "\n",
              "  <style>\n",
              "    .colab-df-container {\n",
              "      display:flex;\n",
              "      gap: 12px;\n",
              "    }\n",
              "\n",
              "    .colab-df-convert {\n",
              "      background-color: #E8F0FE;\n",
              "      border: none;\n",
              "      border-radius: 50%;\n",
              "      cursor: pointer;\n",
              "      display: none;\n",
              "      fill: #1967D2;\n",
              "      height: 32px;\n",
              "      padding: 0 0 0 0;\n",
              "      width: 32px;\n",
              "    }\n",
              "\n",
              "    .colab-df-convert:hover {\n",
              "      background-color: #E2EBFA;\n",
              "      box-shadow: 0px 1px 2px rgba(60, 64, 67, 0.3), 0px 1px 3px 1px rgba(60, 64, 67, 0.15);\n",
              "      fill: #174EA6;\n",
              "    }\n",
              "\n",
              "    .colab-df-buttons div {\n",
              "      margin-bottom: 4px;\n",
              "    }\n",
              "\n",
              "    [theme=dark] .colab-df-convert {\n",
              "      background-color: #3B4455;\n",
              "      fill: #D2E3FC;\n",
              "    }\n",
              "\n",
              "    [theme=dark] .colab-df-convert:hover {\n",
              "      background-color: #434B5C;\n",
              "      box-shadow: 0px 1px 3px 1px rgba(0, 0, 0, 0.15);\n",
              "      filter: drop-shadow(0px 1px 2px rgba(0, 0, 0, 0.3));\n",
              "      fill: #FFFFFF;\n",
              "    }\n",
              "  </style>\n",
              "\n",
              "    <script>\n",
              "      const buttonEl =\n",
              "        document.querySelector('#df-38b1bee8-50c9-4f55-a019-fc81bf645046 button.colab-df-convert');\n",
              "      buttonEl.style.display =\n",
              "        google.colab.kernel.accessAllowed ? 'block' : 'none';\n",
              "\n",
              "      async function convertToInteractive(key) {\n",
              "        const element = document.querySelector('#df-38b1bee8-50c9-4f55-a019-fc81bf645046');\n",
              "        const dataTable =\n",
              "          await google.colab.kernel.invokeFunction('convertToInteractive',\n",
              "                                                    [key], {});\n",
              "        if (!dataTable) return;\n",
              "\n",
              "        const docLinkHtml = 'Like what you see? Visit the ' +\n",
              "          '<a target=\"_blank\" href=https://colab.research.google.com/notebooks/data_table.ipynb>data table notebook</a>'\n",
              "          + ' to learn more about interactive tables.';\n",
              "        element.innerHTML = '';\n",
              "        dataTable['output_type'] = 'display_data';\n",
              "        await google.colab.output.renderOutput(dataTable, element);\n",
              "        const docLink = document.createElement('div');\n",
              "        docLink.innerHTML = docLinkHtml;\n",
              "        element.appendChild(docLink);\n",
              "      }\n",
              "    </script>\n",
              "  </div>\n",
              "\n",
              "\n",
              "    <div id=\"df-f5f2e1e3-1b6a-470e-9fab-844c1375e5cb\">\n",
              "      <button class=\"colab-df-quickchart\" onclick=\"quickchart('df-f5f2e1e3-1b6a-470e-9fab-844c1375e5cb')\"\n",
              "                title=\"Suggest charts\"\n",
              "                style=\"display:none;\">\n",
              "\n",
              "<svg xmlns=\"http://www.w3.org/2000/svg\" height=\"24px\"viewBox=\"0 0 24 24\"\n",
              "     width=\"24px\">\n",
              "    <g>\n",
              "        <path d=\"M19 3H5c-1.1 0-2 .9-2 2v14c0 1.1.9 2 2 2h14c1.1 0 2-.9 2-2V5c0-1.1-.9-2-2-2zM9 17H7v-7h2v7zm4 0h-2V7h2v10zm4 0h-2v-4h2v4z\"/>\n",
              "    </g>\n",
              "</svg>\n",
              "      </button>\n",
              "\n",
              "<style>\n",
              "  .colab-df-quickchart {\n",
              "      --bg-color: #E8F0FE;\n",
              "      --fill-color: #1967D2;\n",
              "      --hover-bg-color: #E2EBFA;\n",
              "      --hover-fill-color: #174EA6;\n",
              "      --disabled-fill-color: #AAA;\n",
              "      --disabled-bg-color: #DDD;\n",
              "  }\n",
              "\n",
              "  [theme=dark] .colab-df-quickchart {\n",
              "      --bg-color: #3B4455;\n",
              "      --fill-color: #D2E3FC;\n",
              "      --hover-bg-color: #434B5C;\n",
              "      --hover-fill-color: #FFFFFF;\n",
              "      --disabled-bg-color: #3B4455;\n",
              "      --disabled-fill-color: #666;\n",
              "  }\n",
              "\n",
              "  .colab-df-quickchart {\n",
              "    background-color: var(--bg-color);\n",
              "    border: none;\n",
              "    border-radius: 50%;\n",
              "    cursor: pointer;\n",
              "    display: none;\n",
              "    fill: var(--fill-color);\n",
              "    height: 32px;\n",
              "    padding: 0;\n",
              "    width: 32px;\n",
              "  }\n",
              "\n",
              "  .colab-df-quickchart:hover {\n",
              "    background-color: var(--hover-bg-color);\n",
              "    box-shadow: 0 1px 2px rgba(60, 64, 67, 0.3), 0 1px 3px 1px rgba(60, 64, 67, 0.15);\n",
              "    fill: var(--button-hover-fill-color);\n",
              "  }\n",
              "\n",
              "  .colab-df-quickchart-complete:disabled,\n",
              "  .colab-df-quickchart-complete:disabled:hover {\n",
              "    background-color: var(--disabled-bg-color);\n",
              "    fill: var(--disabled-fill-color);\n",
              "    box-shadow: none;\n",
              "  }\n",
              "\n",
              "  .colab-df-spinner {\n",
              "    border: 2px solid var(--fill-color);\n",
              "    border-color: transparent;\n",
              "    border-bottom-color: var(--fill-color);\n",
              "    animation:\n",
              "      spin 1s steps(1) infinite;\n",
              "  }\n",
              "\n",
              "  @keyframes spin {\n",
              "    0% {\n",
              "      border-color: transparent;\n",
              "      border-bottom-color: var(--fill-color);\n",
              "      border-left-color: var(--fill-color);\n",
              "    }\n",
              "    20% {\n",
              "      border-color: transparent;\n",
              "      border-left-color: var(--fill-color);\n",
              "      border-top-color: var(--fill-color);\n",
              "    }\n",
              "    30% {\n",
              "      border-color: transparent;\n",
              "      border-left-color: var(--fill-color);\n",
              "      border-top-color: var(--fill-color);\n",
              "      border-right-color: var(--fill-color);\n",
              "    }\n",
              "    40% {\n",
              "      border-color: transparent;\n",
              "      border-right-color: var(--fill-color);\n",
              "      border-top-color: var(--fill-color);\n",
              "    }\n",
              "    60% {\n",
              "      border-color: transparent;\n",
              "      border-right-color: var(--fill-color);\n",
              "    }\n",
              "    80% {\n",
              "      border-color: transparent;\n",
              "      border-right-color: var(--fill-color);\n",
              "      border-bottom-color: var(--fill-color);\n",
              "    }\n",
              "    90% {\n",
              "      border-color: transparent;\n",
              "      border-bottom-color: var(--fill-color);\n",
              "    }\n",
              "  }\n",
              "</style>\n",
              "\n",
              "      <script>\n",
              "        async function quickchart(key) {\n",
              "          const quickchartButtonEl =\n",
              "            document.querySelector('#' + key + ' button');\n",
              "          quickchartButtonEl.disabled = true;  // To prevent multiple clicks.\n",
              "          quickchartButtonEl.classList.add('colab-df-spinner');\n",
              "          try {\n",
              "            const charts = await google.colab.kernel.invokeFunction(\n",
              "                'suggestCharts', [key], {});\n",
              "          } catch (error) {\n",
              "            console.error('Error during call to suggestCharts:', error);\n",
              "          }\n",
              "          quickchartButtonEl.classList.remove('colab-df-spinner');\n",
              "          quickchartButtonEl.classList.add('colab-df-quickchart-complete');\n",
              "        }\n",
              "        (() => {\n",
              "          let quickchartButtonEl =\n",
              "            document.querySelector('#df-f5f2e1e3-1b6a-470e-9fab-844c1375e5cb button');\n",
              "          quickchartButtonEl.style.display =\n",
              "            google.colab.kernel.accessAllowed ? 'block' : 'none';\n",
              "        })();\n",
              "      </script>\n",
              "    </div>\n",
              "\n",
              "    </div>\n",
              "  </div>\n"
            ],
            "application/vnd.google.colaboratory.intrinsic+json": {
              "type": "dataframe",
              "summary": "{\n  \"name\": \"df\",\n  \"rows\": 4,\n  \"fields\": [\n    {\n      \"column\": \"Id\",\n      \"properties\": {\n        \"dtype\": \"number\",\n        \"std\": 1,\n        \"min\": 1,\n        \"max\": 4,\n        \"num_unique_values\": 4,\n        \"samples\": [\n          2,\n          4,\n          1\n        ],\n        \"semantic_type\": \"\",\n        \"description\": \"\"\n      }\n    },\n    {\n      \"column\": \"SepalLengthCm\",\n      \"properties\": {\n        \"dtype\": \"number\",\n        \"std\": 0.22173557826083448,\n        \"min\": 4.6,\n        \"max\": 5.1,\n        \"num_unique_values\": 4,\n        \"samples\": [\n          4.9,\n          4.6,\n          5.1\n        ],\n        \"semantic_type\": \"\",\n        \"description\": \"\"\n      }\n    },\n    {\n      \"column\": \"SepalWidthCm\",\n      \"properties\": {\n        \"dtype\": \"number\",\n        \"std\": 0.21602468994692867,\n        \"min\": 3.0,\n        \"max\": 3.5,\n        \"num_unique_values\": 4,\n        \"samples\": [\n          3.0,\n          3.1,\n          3.5\n        ],\n        \"semantic_type\": \"\",\n        \"description\": \"\"\n      }\n    },\n    {\n      \"column\": \"PetalLengthCm\",\n      \"properties\": {\n        \"dtype\": \"number\",\n        \"std\": 0.08164965809277258,\n        \"min\": 1.3,\n        \"max\": 1.5,\n        \"num_unique_values\": 3,\n        \"samples\": [\n          1.4,\n          1.3,\n          1.5\n        ],\n        \"semantic_type\": \"\",\n        \"description\": \"\"\n      }\n    }\n  ]\n}"
            }
          },
          "metadata": {},
          "execution_count": 24
        }
      ]
    },
    {
      "cell_type": "code",
      "source": [
        "df.plot(kind='box', subplots=True, layout=(2, 2), sharex=False, sharey=False)\n",
        "plt.suptitle(\"General Statistics of Iris Data\")\n",
        "plt.tight_layout()\n",
        "plt.show()"
      ],
      "metadata": {
        "colab": {
          "base_uri": "https://localhost:8080/",
          "height": 425
        },
        "id": "3FtvbsWXkrfq",
        "outputId": "d98a86ec-4164-4da4-a504-84e3d27bf84c"
      },
      "execution_count": 25,
      "outputs": [
        {
          "output_type": "error",
          "ename": "ValueError",
          "evalue": "Layout of 2x2 must be larger than required size 5",
          "traceback": [
            "\u001b[0;31m---------------------------------------------------------------------------\u001b[0m",
            "\u001b[0;31mValueError\u001b[0m                                Traceback (most recent call last)",
            "\u001b[0;32m/tmp/ipython-input-1384842315.py\u001b[0m in \u001b[0;36m<cell line: 0>\u001b[0;34m()\u001b[0m\n\u001b[0;32m----> 1\u001b[0;31m \u001b[0mdf\u001b[0m\u001b[0;34m.\u001b[0m\u001b[0mplot\u001b[0m\u001b[0;34m(\u001b[0m\u001b[0mkind\u001b[0m\u001b[0;34m=\u001b[0m\u001b[0;34m'box'\u001b[0m\u001b[0;34m,\u001b[0m \u001b[0msubplots\u001b[0m\u001b[0;34m=\u001b[0m\u001b[0;32mTrue\u001b[0m\u001b[0;34m,\u001b[0m \u001b[0mlayout\u001b[0m\u001b[0;34m=\u001b[0m\u001b[0;34m(\u001b[0m\u001b[0;36m2\u001b[0m\u001b[0;34m,\u001b[0m \u001b[0;36m2\u001b[0m\u001b[0;34m)\u001b[0m\u001b[0;34m,\u001b[0m \u001b[0msharex\u001b[0m\u001b[0;34m=\u001b[0m\u001b[0;32mFalse\u001b[0m\u001b[0;34m,\u001b[0m \u001b[0msharey\u001b[0m\u001b[0;34m=\u001b[0m\u001b[0;32mFalse\u001b[0m\u001b[0;34m)\u001b[0m\u001b[0;34m\u001b[0m\u001b[0;34m\u001b[0m\u001b[0m\n\u001b[0m\u001b[1;32m      2\u001b[0m \u001b[0mplt\u001b[0m\u001b[0;34m.\u001b[0m\u001b[0msuptitle\u001b[0m\u001b[0;34m(\u001b[0m\u001b[0;34m\"General Statistics of Iris Data\"\u001b[0m\u001b[0;34m)\u001b[0m\u001b[0;34m\u001b[0m\u001b[0;34m\u001b[0m\u001b[0m\n\u001b[1;32m      3\u001b[0m \u001b[0mplt\u001b[0m\u001b[0;34m.\u001b[0m\u001b[0mtight_layout\u001b[0m\u001b[0;34m(\u001b[0m\u001b[0;34m)\u001b[0m\u001b[0;34m\u001b[0m\u001b[0;34m\u001b[0m\u001b[0m\n\u001b[1;32m      4\u001b[0m \u001b[0mplt\u001b[0m\u001b[0;34m.\u001b[0m\u001b[0mshow\u001b[0m\u001b[0;34m(\u001b[0m\u001b[0;34m)\u001b[0m\u001b[0;34m\u001b[0m\u001b[0;34m\u001b[0m\u001b[0m\n",
            "\u001b[0;32m/usr/local/lib/python3.11/dist-packages/pandas/plotting/_core.py\u001b[0m in \u001b[0;36m__call__\u001b[0;34m(self, *args, **kwargs)\u001b[0m\n\u001b[1;32m   1028\u001b[0m                     \u001b[0mdata\u001b[0m\u001b[0;34m.\u001b[0m\u001b[0mcolumns\u001b[0m \u001b[0;34m=\u001b[0m \u001b[0mlabel_name\u001b[0m\u001b[0;34m\u001b[0m\u001b[0;34m\u001b[0m\u001b[0m\n\u001b[1;32m   1029\u001b[0m \u001b[0;34m\u001b[0m\u001b[0m\n\u001b[0;32m-> 1030\u001b[0;31m         \u001b[0;32mreturn\u001b[0m \u001b[0mplot_backend\u001b[0m\u001b[0;34m.\u001b[0m\u001b[0mplot\u001b[0m\u001b[0;34m(\u001b[0m\u001b[0mdata\u001b[0m\u001b[0;34m,\u001b[0m \u001b[0mkind\u001b[0m\u001b[0;34m=\u001b[0m\u001b[0mkind\u001b[0m\u001b[0;34m,\u001b[0m \u001b[0;34m**\u001b[0m\u001b[0mkwargs\u001b[0m\u001b[0;34m)\u001b[0m\u001b[0;34m\u001b[0m\u001b[0;34m\u001b[0m\u001b[0m\n\u001b[0m\u001b[1;32m   1031\u001b[0m \u001b[0;34m\u001b[0m\u001b[0m\n\u001b[1;32m   1032\u001b[0m     \u001b[0m__call__\u001b[0m\u001b[0;34m.\u001b[0m\u001b[0m__doc__\u001b[0m \u001b[0;34m=\u001b[0m \u001b[0m__doc__\u001b[0m\u001b[0;34m\u001b[0m\u001b[0;34m\u001b[0m\u001b[0m\n",
            "\u001b[0;32m/usr/local/lib/python3.11/dist-packages/pandas/plotting/_matplotlib/__init__.py\u001b[0m in \u001b[0;36mplot\u001b[0;34m(data, kind, **kwargs)\u001b[0m\n\u001b[1;32m     69\u001b[0m             \u001b[0mkwargs\u001b[0m\u001b[0;34m[\u001b[0m\u001b[0;34m\"ax\"\u001b[0m\u001b[0;34m]\u001b[0m \u001b[0;34m=\u001b[0m \u001b[0mgetattr\u001b[0m\u001b[0;34m(\u001b[0m\u001b[0max\u001b[0m\u001b[0;34m,\u001b[0m \u001b[0;34m\"left_ax\"\u001b[0m\u001b[0;34m,\u001b[0m \u001b[0max\u001b[0m\u001b[0;34m)\u001b[0m\u001b[0;34m\u001b[0m\u001b[0;34m\u001b[0m\u001b[0m\n\u001b[1;32m     70\u001b[0m     \u001b[0mplot_obj\u001b[0m \u001b[0;34m=\u001b[0m \u001b[0mPLOT_CLASSES\u001b[0m\u001b[0;34m[\u001b[0m\u001b[0mkind\u001b[0m\u001b[0;34m]\u001b[0m\u001b[0;34m(\u001b[0m\u001b[0mdata\u001b[0m\u001b[0;34m,\u001b[0m \u001b[0;34m**\u001b[0m\u001b[0mkwargs\u001b[0m\u001b[0;34m)\u001b[0m\u001b[0;34m\u001b[0m\u001b[0;34m\u001b[0m\u001b[0m\n\u001b[0;32m---> 71\u001b[0;31m     \u001b[0mplot_obj\u001b[0m\u001b[0;34m.\u001b[0m\u001b[0mgenerate\u001b[0m\u001b[0;34m(\u001b[0m\u001b[0;34m)\u001b[0m\u001b[0;34m\u001b[0m\u001b[0;34m\u001b[0m\u001b[0m\n\u001b[0m\u001b[1;32m     72\u001b[0m     \u001b[0mplot_obj\u001b[0m\u001b[0;34m.\u001b[0m\u001b[0mdraw\u001b[0m\u001b[0;34m(\u001b[0m\u001b[0;34m)\u001b[0m\u001b[0;34m\u001b[0m\u001b[0;34m\u001b[0m\u001b[0m\n\u001b[1;32m     73\u001b[0m     \u001b[0;32mreturn\u001b[0m \u001b[0mplot_obj\u001b[0m\u001b[0;34m.\u001b[0m\u001b[0mresult\u001b[0m\u001b[0;34m\u001b[0m\u001b[0;34m\u001b[0m\u001b[0m\n",
            "\u001b[0;32m/usr/local/lib/python3.11/dist-packages/pandas/plotting/_matplotlib/core.py\u001b[0m in \u001b[0;36mgenerate\u001b[0;34m(self)\u001b[0m\n\u001b[1;32m    498\u001b[0m     \u001b[0;32mdef\u001b[0m \u001b[0mgenerate\u001b[0m\u001b[0;34m(\u001b[0m\u001b[0mself\u001b[0m\u001b[0;34m)\u001b[0m \u001b[0;34m->\u001b[0m \u001b[0;32mNone\u001b[0m\u001b[0;34m:\u001b[0m\u001b[0;34m\u001b[0m\u001b[0;34m\u001b[0m\u001b[0m\n\u001b[1;32m    499\u001b[0m         \u001b[0mself\u001b[0m\u001b[0;34m.\u001b[0m\u001b[0m_compute_plot_data\u001b[0m\u001b[0;34m(\u001b[0m\u001b[0;34m)\u001b[0m\u001b[0;34m\u001b[0m\u001b[0;34m\u001b[0m\u001b[0m\n\u001b[0;32m--> 500\u001b[0;31m         \u001b[0mfig\u001b[0m \u001b[0;34m=\u001b[0m \u001b[0mself\u001b[0m\u001b[0;34m.\u001b[0m\u001b[0mfig\u001b[0m\u001b[0;34m\u001b[0m\u001b[0;34m\u001b[0m\u001b[0m\n\u001b[0m\u001b[1;32m    501\u001b[0m         \u001b[0mself\u001b[0m\u001b[0;34m.\u001b[0m\u001b[0m_make_plot\u001b[0m\u001b[0;34m(\u001b[0m\u001b[0mfig\u001b[0m\u001b[0;34m)\u001b[0m\u001b[0;34m\u001b[0m\u001b[0;34m\u001b[0m\u001b[0m\n\u001b[1;32m    502\u001b[0m         \u001b[0mself\u001b[0m\u001b[0;34m.\u001b[0m\u001b[0m_add_table\u001b[0m\u001b[0;34m(\u001b[0m\u001b[0;34m)\u001b[0m\u001b[0;34m\u001b[0m\u001b[0;34m\u001b[0m\u001b[0m\n",
            "\u001b[0;32mproperties.pyx\u001b[0m in \u001b[0;36mpandas._libs.properties.CachedProperty.__get__\u001b[0;34m()\u001b[0m\n",
            "\u001b[0;32m/usr/local/lib/python3.11/dist-packages/pandas/plotting/_matplotlib/core.py\u001b[0m in \u001b[0;36mfig\u001b[0;34m(self)\u001b[0m\n\u001b[1;32m    553\u001b[0m     \u001b[0;34m@\u001b[0m\u001b[0mcache_readonly\u001b[0m\u001b[0;34m\u001b[0m\u001b[0;34m\u001b[0m\u001b[0m\n\u001b[1;32m    554\u001b[0m     \u001b[0;32mdef\u001b[0m \u001b[0mfig\u001b[0m\u001b[0;34m(\u001b[0m\u001b[0mself\u001b[0m\u001b[0;34m)\u001b[0m \u001b[0;34m->\u001b[0m \u001b[0mFigure\u001b[0m\u001b[0;34m:\u001b[0m\u001b[0;34m\u001b[0m\u001b[0;34m\u001b[0m\u001b[0m\n\u001b[0;32m--> 555\u001b[0;31m         \u001b[0;32mreturn\u001b[0m \u001b[0mself\u001b[0m\u001b[0;34m.\u001b[0m\u001b[0m_axes_and_fig\u001b[0m\u001b[0;34m[\u001b[0m\u001b[0;36m1\u001b[0m\u001b[0;34m]\u001b[0m\u001b[0;34m\u001b[0m\u001b[0;34m\u001b[0m\u001b[0m\n\u001b[0m\u001b[1;32m    556\u001b[0m \u001b[0;34m\u001b[0m\u001b[0m\n\u001b[1;32m    557\u001b[0m     \u001b[0;34m@\u001b[0m\u001b[0mfinal\u001b[0m\u001b[0;34m\u001b[0m\u001b[0;34m\u001b[0m\u001b[0m\n",
            "\u001b[0;32mproperties.pyx\u001b[0m in \u001b[0;36mpandas._libs.properties.CachedProperty.__get__\u001b[0;34m()\u001b[0m\n",
            "\u001b[0;32m/usr/local/lib/python3.11/dist-packages/pandas/plotting/_matplotlib/core.py\u001b[0m in \u001b[0;36m_axes_and_fig\u001b[0;34m(self)\u001b[0m\n\u001b[1;32m    568\u001b[0m                 \u001b[0mself\u001b[0m\u001b[0;34m.\u001b[0m\u001b[0mnseries\u001b[0m \u001b[0;32mif\u001b[0m \u001b[0misinstance\u001b[0m\u001b[0;34m(\u001b[0m\u001b[0mself\u001b[0m\u001b[0;34m.\u001b[0m\u001b[0msubplots\u001b[0m\u001b[0;34m,\u001b[0m \u001b[0mbool\u001b[0m\u001b[0;34m)\u001b[0m \u001b[0;32melse\u001b[0m \u001b[0mlen\u001b[0m\u001b[0;34m(\u001b[0m\u001b[0mself\u001b[0m\u001b[0;34m.\u001b[0m\u001b[0msubplots\u001b[0m\u001b[0;34m)\u001b[0m\u001b[0;34m\u001b[0m\u001b[0;34m\u001b[0m\u001b[0m\n\u001b[1;32m    569\u001b[0m             )\n\u001b[0;32m--> 570\u001b[0;31m             fig, axes = create_subplots(\n\u001b[0m\u001b[1;32m    571\u001b[0m                 \u001b[0mnaxes\u001b[0m\u001b[0;34m=\u001b[0m\u001b[0mnaxes\u001b[0m\u001b[0;34m,\u001b[0m\u001b[0;34m\u001b[0m\u001b[0;34m\u001b[0m\u001b[0m\n\u001b[1;32m    572\u001b[0m                 \u001b[0msharex\u001b[0m\u001b[0;34m=\u001b[0m\u001b[0mself\u001b[0m\u001b[0;34m.\u001b[0m\u001b[0msharex\u001b[0m\u001b[0;34m,\u001b[0m\u001b[0;34m\u001b[0m\u001b[0;34m\u001b[0m\u001b[0m\n",
            "\u001b[0;32m/usr/local/lib/python3.11/dist-packages/pandas/plotting/_matplotlib/tools.py\u001b[0m in \u001b[0;36mcreate_subplots\u001b[0;34m(naxes, sharex, sharey, squeeze, subplot_kw, ax, layout, layout_type, **fig_kw)\u001b[0m\n\u001b[1;32m    274\u001b[0m             \u001b[0mfig\u001b[0m\u001b[0;34m.\u001b[0m\u001b[0mclear\u001b[0m\u001b[0;34m(\u001b[0m\u001b[0;34m)\u001b[0m\u001b[0;34m\u001b[0m\u001b[0;34m\u001b[0m\u001b[0m\n\u001b[1;32m    275\u001b[0m \u001b[0;34m\u001b[0m\u001b[0m\n\u001b[0;32m--> 276\u001b[0;31m     \u001b[0mnrows\u001b[0m\u001b[0;34m,\u001b[0m \u001b[0mncols\u001b[0m \u001b[0;34m=\u001b[0m \u001b[0m_get_layout\u001b[0m\u001b[0;34m(\u001b[0m\u001b[0mnaxes\u001b[0m\u001b[0;34m,\u001b[0m \u001b[0mlayout\u001b[0m\u001b[0;34m=\u001b[0m\u001b[0mlayout\u001b[0m\u001b[0;34m,\u001b[0m \u001b[0mlayout_type\u001b[0m\u001b[0;34m=\u001b[0m\u001b[0mlayout_type\u001b[0m\u001b[0;34m)\u001b[0m\u001b[0;34m\u001b[0m\u001b[0;34m\u001b[0m\u001b[0m\n\u001b[0m\u001b[1;32m    277\u001b[0m     \u001b[0mnplots\u001b[0m \u001b[0;34m=\u001b[0m \u001b[0mnrows\u001b[0m \u001b[0;34m*\u001b[0m \u001b[0mncols\u001b[0m\u001b[0;34m\u001b[0m\u001b[0;34m\u001b[0m\u001b[0m\n\u001b[1;32m    278\u001b[0m \u001b[0;34m\u001b[0m\u001b[0m\n",
            "\u001b[0;32m/usr/local/lib/python3.11/dist-packages/pandas/plotting/_matplotlib/tools.py\u001b[0m in \u001b[0;36m_get_layout\u001b[0;34m(nplots, layout, layout_type)\u001b[0m\n\u001b[1;32m    110\u001b[0m \u001b[0;34m\u001b[0m\u001b[0m\n\u001b[1;32m    111\u001b[0m         \u001b[0;32mif\u001b[0m \u001b[0mnrows\u001b[0m \u001b[0;34m*\u001b[0m \u001b[0mncols\u001b[0m \u001b[0;34m<\u001b[0m \u001b[0mnplots\u001b[0m\u001b[0;34m:\u001b[0m\u001b[0;34m\u001b[0m\u001b[0;34m\u001b[0m\u001b[0m\n\u001b[0;32m--> 112\u001b[0;31m             raise ValueError(\n\u001b[0m\u001b[1;32m    113\u001b[0m                 \u001b[0;34mf\"Layout of {nrows}x{ncols} must be larger than required size {nplots}\"\u001b[0m\u001b[0;34m\u001b[0m\u001b[0;34m\u001b[0m\u001b[0m\n\u001b[1;32m    114\u001b[0m             )\n",
            "\u001b[0;31mValueError\u001b[0m: Layout of 2x2 must be larger than required size 5"
          ]
        },
        {
          "output_type": "display_data",
          "data": {
            "text/plain": [
              "<Figure size 640x480 with 0 Axes>"
            ]
          },
          "metadata": {}
        }
      ]
    },
    {
      "cell_type": "code",
      "source": [
        "sns.countplot(x='Species', data=df)\n",
        "plt.title('Species Frequency')\n",
        "plt.show()\n"
      ],
      "metadata": {
        "colab": {
          "base_uri": "https://localhost:8080/",
          "height": 472
        },
        "id": "26_enXo_k4Pj",
        "outputId": "ddb17187-48b6-45f4-e0d6-45732ab9fe13"
      },
      "execution_count": 26,
      "outputs": [
        {
          "output_type": "display_data",
          "data": {
            "text/plain": [
              "<Figure size 640x480 with 1 Axes>"
            ],
            "image/png": "[encoded data removed]"
          },
          "metadata": {}
        }
      ]
    },
    {
      "cell_type": "code",
      "source": [
        "species_counts = df['Species'].value_counts()\n",
        "plt.pie(species_counts, labels=species_counts.index, autopct='%1.1f%%')\n",
        "plt.title('Species Distribution')\n",
        "plt.axis('equal')\n",
        "plt.show()"
      ],
      "metadata": {
        "colab": {
          "base_uri": "https://localhost:8080/",
          "height": 428
        },
        "id": "GQlDcLvhk7xG",
        "outputId": "aed161f3-8a65-4190-d6a5-fb15d02deedc"
      },
      "execution_count": 27,
      "outputs": [
        {
          "output_type": "display_data",
          "data": {
            "text/plain": [
              "<Figure size 640x480 with 1 Axes>"
            ],
            "image/png": "[encoded data removed]"
          },
          "metadata": {}
        }
      ]
    },
    {
      "cell_type": "code",
      "source": [
        "sns.scatterplot(data=df, x='SepalLengthCm', y='SepalWidthCm', hue='Species')\n",
        "plt.title('Sepal Length vs Width')\n",
        "plt.show()"
      ],
      "metadata": {
        "colab": {
          "base_uri": "https://localhost:8080/",
          "height": 472
        },
        "id": "peSBhDErk9wG",
        "outputId": "85fb54f7-3d77-48ad-d84c-e2a74f41f1c0"
      },
      "execution_count": 28,
      "outputs": [
        {
          "output_type": "display_data",
          "data": {
            "text/plain": [
              "<Figure size 640x480 with 1 Axes>"
            ],
            "image/png": "[encoded data removed]"
          },
          "metadata": {}
        }
      ]
    },
    {
      "cell_type": "code",
      "source": [],
      "metadata": {
        "id": "xIyYFulHlAm6"
      },
      "execution_count": null,
      "outputs": []
    }
  ]
}